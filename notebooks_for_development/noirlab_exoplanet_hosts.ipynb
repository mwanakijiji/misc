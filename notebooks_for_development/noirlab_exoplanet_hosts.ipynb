{
 "cells": [
  {
   "cell_type": "code",
   "execution_count": 46,
   "id": "9a869317",
   "metadata": {},
   "outputs": [],
   "source": [
    "import matplotlib.pyplot as plt\n",
    "import numpy as np\n",
    "import pandas as pd\n",
    "from astropy.table import Table, join\n",
    "import requests\n",
    "import xml.etree.ElementTree as ET\n",
    "import re\n",
    "\n",
    "import astroquery\n",
    "from astroquery.simbad import Simbad\n"
   ]
  },
  {
   "cell_type": "code",
   "execution_count": 2,
   "id": "2d5ca55f",
   "metadata": {},
   "outputs": [],
   "source": [
    "stem = '/Users/bandari/Documents/git.repos/misc/notebooks_for_development/'"
   ]
  },
  {
   "cell_type": "code",
   "execution_count": 3,
   "id": "de787ac8",
   "metadata": {},
   "outputs": [],
   "source": [
    "#df = pd.read_csv('neid_planets.csv', delimiter='|', skiprows=43)\n",
    "neid_targets = Table.read('neid_planets.csv', format='ascii', delimiter='|', data_start=44)"
   ]
  },
  {
   "cell_type": "code",
   "execution_count": 4,
   "id": "d16a536a",
   "metadata": {},
   "outputs": [
    {
     "data": {
      "text/html": [
       "<div><i>Table length=57</i>\n",
       "<table id=\"table140279162108704\" class=\"table-striped table-bordered table-condensed\">\n",
       "<thead><tr><th>Seq</th><th>Name</th><th>Vmag</th><th>Teff</th><th>logg</th><th>Delta</th><th>Texp</th><th>rms</th><th>Nobs</th><th>FOM</th><th>Simbad</th><th>_RA</th><th>_DE</th></tr></thead>\n",
       "<thead><tr><th>int64</th><th>str9</th><th>float64</th><th>int64</th><th>float64</th><th>float64</th><th>int64</th><th>float64</th><th>int64</th><th>float64</th><th>str6</th><th>float64</th><th>float64</th></tr></thead>\n",
       "<tr><td>44</td><td>HD145958B</td><td>7.5</td><td>5343</td><td>4.46</td><td>5.34</td><td>1634</td><td>3.1</td><td>77</td><td>4.114</td><td>Simbad</td><td>243.32675</td><td>13.52805</td></tr>\n",
       "<tr><td>45</td><td>HD99491</td><td>6.49</td><td>5438</td><td>4.4</td><td>2.68</td><td>724</td><td>4.5</td><td>125</td><td>4.105</td><td>Simbad</td><td>171.68884</td><td>3.0131</td></tr>\n",
       "<tr><td>46</td><td>HD12846</td><td>6.89</td><td>5700</td><td>4.48</td><td>2.08</td><td>1078</td><td>2.9</td><td>69</td><td>4.097</td><td>Simbad</td><td>31.62601</td><td>24.33399</td></tr>\n",
       "<tr><td>47</td><td>HD164922</td><td>6.99</td><td>5341</td><td>4.39</td><td>2.38</td><td>1000</td><td>3.4</td><td>158</td><td>4.085</td><td>Simbad</td><td>270.62859</td><td>26.313</td></tr>\n",
       "<tr><td>48</td><td>HD157347</td><td>6.3</td><td>5712</td><td>4.42</td><td>1.47</td><td>708</td><td>3.56</td><td>87</td><td>4.084</td><td>Simbad</td><td>260.7137</td><td>-2.38818</td></tr>\n",
       "<tr><td>49</td><td>HD149806</td><td>7.1</td><td>5275</td><td>4.42</td><td>3.58</td><td>1086</td><td>4.0</td><td>34</td><td>4.072</td><td>Simbad</td><td>249.28512</td><td>0.25434</td></tr>\n",
       "<tr><td>50</td><td>HD170657</td><td>6.81</td><td>5040</td><td>4.54</td><td>3.19</td><td>778</td><td>5.15</td><td>43</td><td>4.058</td><td>Simbad</td><td>277.829</td><td>-18.90881</td></tr>\n",
       "<tr><td>51</td><td>HD199960</td><td>6.21</td><td>5885</td><td>4.22</td><td>3.27</td><td>1032</td><td>4.16</td><td>25</td><td>4.055</td><td>Simbad</td><td>315.141</td><td>-4.73026</td></tr>\n",
       "<tr><td>52</td><td>HD158633</td><td>6.44</td><td>5256</td><td>4.58</td><td>0.71</td><td>626</td><td>3.0</td><td>40</td><td>4.042</td><td>Simbad</td><td>261.25041</td><td>67.30671</td></tr>\n",
       "<tr><td>53</td><td>HD166620</td><td>6.38</td><td>4970</td><td>4.51</td><td>0.71</td><td>536</td><td>3.4</td><td>67</td><td>4.04</td><td>Simbad</td><td>272.4059</td><td>38.45778</td></tr>\n",
       "<tr><td>...</td><td>...</td><td>...</td><td>...</td><td>...</td><td>...</td><td>...</td><td>...</td><td>...</td><td>...</td><td>...</td><td>...</td><td>...</td></tr>\n",
       "<tr><td>91</td><td>HD130992</td><td>7.81</td><td>4767</td><td>4.51</td><td>2.36</td><td>1846</td><td>3.17</td><td>51</td><td>3.879</td><td>Simbad</td><td>222.9186</td><td>-24.30413</td></tr>\n",
       "<tr><td>92</td><td>HD219623</td><td>5.58</td><td>6059</td><td>4.21</td><td>4.21</td><td>1062</td><td>6.92</td><td>20</td><td>3.878</td><td>Simbad</td><td>349.17626</td><td>53.21348</td></tr>\n",
       "<tr><td>93</td><td>HD32923</td><td>5.0</td><td>5725</td><td>4.13</td><td>2.56</td><td>655</td><td>8.08</td><td>21</td><td>3.875</td><td>Simbad</td><td>76.86253</td><td>18.64505</td></tr>\n",
       "<tr><td>94</td><td>HD180161</td><td>7.04</td><td>5396</td><td>4.51</td><td>4.45</td><td>1046</td><td>7.3</td><td>14</td><td>3.872</td><td>Simbad</td><td>288.04732</td><td>57.67198</td></tr>\n",
       "<tr><td>95</td><td>HD4915</td><td>6.98</td><td>5668</td><td>4.56</td><td>2.72</td><td>1118</td><td>5.45</td><td>40</td><td>3.868</td><td>Simbad</td><td>12.7952</td><td>-5.03928</td></tr>\n",
       "<tr><td>96</td><td>HD220339</td><td>7.8</td><td>4953</td><td>4.56</td><td>2.32</td><td>1908</td><td>3.15</td><td>53</td><td>3.865</td><td>Simbad</td><td>350.7704</td><td>-10.76424</td></tr>\n",
       "<tr><td>97</td><td>HD224619</td><td>7.47</td><td>5453</td><td>4.49</td><td>3.05</td><td>1666</td><td>4.09</td><td>33</td><td>3.864</td><td>Simbad</td><td>359.86847</td><td>-20.03471</td></tr>\n",
       "<tr><td>98</td><td>HD28005</td><td>6.72</td><td>5747</td><td>4.24</td><td>2.65</td><td>1234</td><td>4.98</td><td>57</td><td>3.864</td><td>Simbad</td><td>66.85293</td><td>46.85315</td></tr>\n",
       "<tr><td>99</td><td>HD37394</td><td>6.21</td><td>5249</td><td>4.5</td><td>5.27</td><td>498</td><td>14.66</td><td>13</td><td>3.864</td><td>Simbad</td><td>85.33473</td><td>53.48106</td></tr>\n",
       "<tr><td>100</td><td>HD216520</td><td>7.53</td><td>5082</td><td>4.54</td><td>1.44</td><td>1522</td><td>3.08</td><td>185</td><td>3.86</td><td>Simbad</td><td>341.88282</td><td>83.69703</td></tr>\n",
       "</table></div>"
      ],
      "text/plain": [
       "<Table length=57>\n",
       " Seq     Name     Vmag   Teff   logg  ...   FOM   Simbad    _RA       _DE   \n",
       "int64    str9   float64 int64 float64 ... float64  str6   float64   float64 \n",
       "----- --------- ------- ----- ------- ... ------- ------ --------- ---------\n",
       "   44 HD145958B     7.5  5343    4.46 ...   4.114 Simbad 243.32675  13.52805\n",
       "   45   HD99491    6.49  5438     4.4 ...   4.105 Simbad 171.68884    3.0131\n",
       "   46   HD12846    6.89  5700    4.48 ...   4.097 Simbad  31.62601  24.33399\n",
       "   47  HD164922    6.99  5341    4.39 ...   4.085 Simbad 270.62859    26.313\n",
       "   48  HD157347     6.3  5712    4.42 ...   4.084 Simbad  260.7137  -2.38818\n",
       "   49  HD149806     7.1  5275    4.42 ...   4.072 Simbad 249.28512   0.25434\n",
       "   50  HD170657    6.81  5040    4.54 ...   4.058 Simbad   277.829 -18.90881\n",
       "   51  HD199960    6.21  5885    4.22 ...   4.055 Simbad   315.141  -4.73026\n",
       "   52  HD158633    6.44  5256    4.58 ...   4.042 Simbad 261.25041  67.30671\n",
       "   53  HD166620    6.38  4970    4.51 ...    4.04 Simbad  272.4059  38.45778\n",
       "  ...       ...     ...   ...     ... ...     ...    ...       ...       ...\n",
       "   91  HD130992    7.81  4767    4.51 ...   3.879 Simbad  222.9186 -24.30413\n",
       "   92  HD219623    5.58  6059    4.21 ...   3.878 Simbad 349.17626  53.21348\n",
       "   93   HD32923     5.0  5725    4.13 ...   3.875 Simbad  76.86253  18.64505\n",
       "   94  HD180161    7.04  5396    4.51 ...   3.872 Simbad 288.04732  57.67198\n",
       "   95    HD4915    6.98  5668    4.56 ...   3.868 Simbad   12.7952  -5.03928\n",
       "   96  HD220339     7.8  4953    4.56 ...   3.865 Simbad  350.7704 -10.76424\n",
       "   97  HD224619    7.47  5453    4.49 ...   3.864 Simbad 359.86847 -20.03471\n",
       "   98   HD28005    6.72  5747    4.24 ...   3.864 Simbad  66.85293  46.85315\n",
       "   99   HD37394    6.21  5249     4.5 ...   3.864 Simbad  85.33473  53.48106\n",
       "  100  HD216520    7.53  5082    4.54 ...    3.86 Simbad 341.88282  83.69703"
      ]
     },
     "execution_count": 4,
     "metadata": {},
     "output_type": "execute_result"
    }
   ],
   "source": [
    "neid_targets"
   ]
  },
  {
   "cell_type": "code",
   "execution_count": 60,
   "id": "6a39413d",
   "metadata": {},
   "outputs": [],
   "source": [
    "# Customize the Simbad query to include additional parameters\n",
    "custom_simbad = Simbad()\n",
    "custom_simbad.TIMEOUT = 120  # Increase timeout for large queries\n",
    "#custom_simbad.add_votable_fields('parallax', 'pmra', 'pmdec', 'sp')  # Add desired fields including spectral class\n",
    "custom_simbad.add_votable_fields('parallax', 'pmra', 'pmdec', 'sp', 'ids')  # Add desired fields including spectral class and identifiers\n",
    "\n",
    "\n",
    "# Query Simbad using the object names from your table\n",
    "object_names = neid_targets['Name'] \n",
    "neid_target_addl_info = custom_simbad.query_objects(object_names)\n",
    "\n",
    "# I want the HD designation alone, to enable table merging. \n",
    "# This function is to extract the string containing 'HD ' from the 'ids' field\n",
    "def extract_hd_id(ids):\n",
    "    for id_str in ids.split('|'):\n",
    "        if 'HD ' in id_str:\n",
    "            return id_str\n",
    "    return None\n",
    "\n",
    "# make a new col just containing the HD name\n",
    "neid_target_addl_info['HD_NAME'] = [extract_hd_id(ids) for ids in neid_target_addl_info['IDS']]\n",
    "# normalize for merging\n",
    "neid_target_addl_info['HD_NORM'] = [hd.replace(' ', '') for hd in neid_target_addl_info['HD_NAME']]\n",
    "#neid_target_addl_info['NORM_ID'] = [hd.replace(' ', '') for hd in neid_target_addl_info['SIMBAD_HD']]\n",
    "\n",
    "# make col of same name to allow merge\n",
    "neid_targets['HD_NORM'] = neid_targets['Name']\n",
    "\n",
    "# merged table\n",
    "neid_target_list_w_addl_info = join(neid_targets, neid_target_addl_info, keys='HD_NORM')\n"
   ]
  },
  {
   "cell_type": "code",
   "execution_count": 61,
   "id": "422179bb",
   "metadata": {},
   "outputs": [
    {
     "data": {
      "text/html": [
       "<div><i>Table length=56</i>\n",
       "<table id=\"table140279188176848\" class=\"table-striped table-bordered table-condensed\">\n",
       "<thead><tr><th>Seq</th><th>Name</th><th>Vmag</th><th>Teff</th><th>logg</th><th>Delta</th><th>Texp</th><th>rms</th><th>Nobs</th><th>FOM</th><th>Simbad</th><th>_RA</th><th>_DE</th><th>HD_NORM</th><th>MAIN_ID</th><th>RA</th><th>DEC</th><th>RA_PREC</th><th>DEC_PREC</th><th>COO_ERR_MAJA</th><th>COO_ERR_MINA</th><th>COO_ERR_ANGLE</th><th>COO_QUAL</th><th>COO_WAVELENGTH</th><th>COO_BIBCODE</th><th>PLX_VALUE</th><th>PLX_PREC</th><th>PLX_ERROR</th><th>PLX_QUAL</th><th>PLX_BIBCODE</th><th>PMRA</th><th>PMDEC</th><th>SP_TYPE</th><th>IDS</th><th>SCRIPT_NUMBER_ID</th><th>HD_NAME</th></tr></thead>\n",
       "<thead><tr><th></th><th></th><th></th><th></th><th></th><th></th><th></th><th></th><th></th><th></th><th></th><th></th><th></th><th></th><th></th><th>&quot;h:m:s&quot;</th><th>&quot;d:m:s&quot;</th><th></th><th></th><th>mas</th><th>mas</th><th>deg</th><th></th><th></th><th></th><th>mas</th><th></th><th>mas</th><th></th><th></th><th>mas / yr</th><th>mas / yr</th><th></th><th></th><th></th><th></th></tr></thead>\n",
       "<thead><tr><th>int64</th><th>str9</th><th>float64</th><th>int64</th><th>float64</th><th>float64</th><th>int64</th><th>float64</th><th>int64</th><th>float64</th><th>str6</th><th>float64</th><th>float64</th><th>str9</th><th>object</th><th>str13</th><th>str13</th><th>int16</th><th>int16</th><th>float32</th><th>float32</th><th>int16</th><th>str1</th><th>str1</th><th>object</th><th>float64</th><th>int16</th><th>float32</th><th>str1</th><th>object</th><th>float64</th><th>float64</th><th>object</th><th>object</th><th>int32</th><th>str10</th></tr></thead>\n",
       "<tr><td>78</td><td>HD116443</td><td>7.35</td><td>5001</td><td>4.57</td><td>2.16</td><td>1266</td><td>3.71</td><td>92</td><td>3.938</td><td>Simbad</td><td>200.92019</td><td>2.72527</td><td>HD116443</td><td>HD 116443</td><td>13 23 40.8451</td><td>+02 43 30.987</td><td>14</td><td>14</td><td>0.020</td><td>0.014</td><td>90</td><td>A</td><td>O</td><td>2020yCat.1350....0G</td><td>60.316</td><td>4</td><td>0.0251</td><td>A</td><td>2020yCat.1350....0G</td><td>5.667</td><td>201.308</td><td>K2V</td><td>LTT 13890|** STF 1740B|ADS  8883 B|AG+02 1667|AKARI-IRC-V1 J1323408+024331|ASCC 1138799|BD+03  2766|CCDM J13237+0243B|Ci 18 1727|CNS5 3299|GC 18117|GCRV 64078|GEN# +1.00116443|GJ 3782|GPM 200.920169+02.724783|HD 116443|HIC  65355|HIP 65355|IDS 13186+0314 B|LSPM J1323+0243E|2MASS J13234086+0243309|NLTT 33956|PPM 159722|RAVE J132340.8+024331|SAO 119910|SKY# 24714|SPOCS  565|TIC 393713801|TYC  303-1282-1|UBV   12082|UBV M  19339|USNO-B1.0 0927-00293939|uvby98 100116443|WDS J13237+0243B|WISEA J132340.85+024332.9|WISE J132340.86+024333.2|YZ   2  4709|[K37] 1-7|Gaia DR3 3712538811193759744|Gaia DR1 3712538600739480192|Gaia DR2 3712538811193759744</td><td>35</td><td>HD 116443</td></tr>\n",
       "<tr><td>65</td><td>HD12051</td><td>7.14</td><td>5412</td><td>4.38</td><td>0.97</td><td>1206</td><td>2.32</td><td>232</td><td>3.986</td><td>Simbad</td><td>29.77764</td><td>33.20968</td><td>HD12051</td><td>HD  12051</td><td>01 59 06.6332</td><td>+33 12 34.859</td><td>14</td><td>14</td><td>0.022</td><td>0.019</td><td>90</td><td>A</td><td>O</td><td>2020yCat.1350....0G</td><td>40.442</td><td>4</td><td>0.0257</td><td>A</td><td>2020yCat.1350....0G</td><td>243.789</td><td>-351.616</td><td>G9V</td><td>G  72-50|** ENG    9A|** BUP   28A|AG+32  182|AGKR  1742|ASCC  554655|BD+32   360|CCDM J01592+3312A|Ci 20  137|Ci 18  263|CNS5 505|CSI+32   360  1|GC  2382|GCRV  1093|GEN# +1.00012051|G 133-59|GJ 82.1|GPM  29.776932+33.210541|HD  12051|HIC   9269|HIP 9269|IDS 01533+3244 A|LSPM J0159+3312|LTT 10674|2MASS J01590663+3312350|NLTT  6615|PPM  66844|Pul -3  150346|SAO  55167|SKY#  2913|SPOCS  106|TIC 284013790|TYC 2312-2433-1|UBV M   8557|USNO-B1.0 1232-00039073|uvby98 100012051|WDS J01591+3313A|WEB  1946|Gaia DR2 304991163902854784|Gaia DR3 304991163902854784|Gaia DR1 304991159606878336</td><td>22</td><td>HD  12051</td></tr>\n",
       "<tr><td>88</td><td>HD125455</td><td>7.58</td><td>5103</td><td>4.54</td><td>2.65</td><td>1606</td><td>3.65</td><td>45</td><td>3.898</td><td>Simbad</td><td>214.89526</td><td>-5.15119</td><td>HD125455</td><td>HD 125455</td><td>14 19 34.8632</td><td>-05 09 04.290</td><td>14</td><td>14</td><td>0.027</td><td>0.030</td><td>90</td><td>A</td><td>O</td><td>2020yCat.1350....0G</td><td>48.901</td><td>4</td><td>0.0445</td><td>A</td><td>2020yCat.1350....0G</td><td>-632.951</td><td>-120.707</td><td>K1V</td><td>LHS  2894|** KUI   67A|AGKR 12806|BD-04  3665|CCDM J14196-0509A|Ci 20  850|CNS5 3540|CSI-04  3665  1|FK5 5266|GC 19326|GCRV  8376|GCRV 26146|GEN# +1.00125455|G 124-24|GJ 544 A|HD 125455|HIC  70016|HIP 70016|IDS 14144-0441 A|JP11  2500|LFT 1092|LPM 520|LTT  5635|2MASS J14193488-0509041|NLTT 36962|PLX 3255|PMC 90-93  3868|PPM 197429|SAO 139867|SKY# 26139|SPOCS  598|SRS  12217|TIC 203230367|TYC 4982-1062-1|UBV   12582|UGP 345|uvby98 100125455|WDS J14196-0509A|WEB 12176|WISEA J141934.43-050905.5|YZC 17  5091|YZ  94  5091|Gaia DR2 3642413746280598784|Gaia DR3 3642413746280598784</td><td>45</td><td>HD 125455</td></tr>\n",
       "<tr><td>46</td><td>HD12846</td><td>6.89</td><td>5700</td><td>4.48</td><td>2.08</td><td>1078</td><td>2.9</td><td>69</td><td>4.097</td><td>Simbad</td><td>31.62601</td><td>24.33399</td><td>HD12846</td><td>HD  12846</td><td>02 06 30.2435</td><td>+24 20 02.371</td><td>14</td><td>14</td><td>0.018</td><td>0.018</td><td>90</td><td>A</td><td>O</td><td>2020yCat.1350....0G</td><td>42.114</td><td>4</td><td>0.0205</td><td>A</td><td>2020yCat.1350....0G</td><td>6.063</td><td>-147.727</td><td>G2V</td><td>HD  12846|AG+24  188|AGKR  1839|BD+23   285|CNS5 532|GC  2525|GEN# +1.00012846|GSC 01758-01907|HIC   9829|HIP 9829|IRAS 02036+2405|2MASS J02063024+2420023|PPM  91362|SAO  75144|SKY#  3098|SPOCS  112|TIC 405376575|TYC 1758-1907-1|uvby98 100012846|YZ  24   630|Gaia DR2 104453918172129792|Gaia DR3 104453918172129792</td><td>3</td><td>HD  12846</td></tr>\n",
       "<tr><td>91</td><td>HD130992</td><td>7.81</td><td>4767</td><td>4.51</td><td>2.36</td><td>1846</td><td>3.17</td><td>51</td><td>3.879</td><td>Simbad</td><td>222.9186</td><td>-24.30413</td><td>HD130992</td><td>HD 130992</td><td>14 51 40.4651</td><td>-24 18 14.876</td><td>14</td><td>14</td><td>0.024</td><td>0.021</td><td>90</td><td>A</td><td>O</td><td>2020yCat.1350....0G</td><td>59.639</td><td>4</td><td>0.0275</td><td>A</td><td>2020yCat.1350....0G</td><td>-944.623</td><td>-431.624</td><td>K3.5V</td><td>LHS   383|CD-23 11940|CE 498|Ci 20  889|CNS5 3675|CPD-23  5999|GC 19986|GCRV  8631|GEN# +1.00130992|GJ 565|HD 130992|HIC  72688|HIP 72688|LAL 27026|LFT 1149|LPM 546|LTT  5898|2MASS J14514057-2418142|NLTT 38569|PLX 3354|PLX 3354.00|PM 14488-2406|PPM 263478|SAO 182935|SKY# 26992|SPOCS  622|TIC 129383|TYC 6747-1787-1|UBV   12941|UBV M  20407|UGP 362|uvby98 100130992|WEB 12497|WISEA J145139.75-241819.3|YZ 114 10660|Gaia DR2 6229442835525861120|Gaia DR3 6229442835525861120</td><td>48</td><td>HD 130992</td></tr>\n",
       "<tr><td>82</td><td>HD132142</td><td>7.77</td><td>5145</td><td>4.55</td><td>1.96</td><td>1952</td><td>2.55</td><td>58</td><td>3.911</td><td>Simbad</td><td>223.79602</td><td>53.68035</td><td>HD132142</td><td>HD 132142</td><td>14 55 11.0437</td><td>+53 40 49.246</td><td>14</td><td>14</td><td>0.015</td><td>0.015</td><td>90</td><td>A</td><td>O</td><td>2020yCat.1350....0G</td><td>42.422</td><td>4</td><td>0.0173</td><td>A</td><td>2020yCat.1350....0G</td><td>-971.031</td><td>478.163</td><td>K1V</td><td>LHS   384|AG+53  976|AP J14551121+5340485|ASCC  260439|BD+54  1716|Ci 20  898|CNS5 3690|GC 20090|GCRV  8662|GEN# +1.00132142|G 201-22|G 224-32|G 200-62|GJ 9501|GJ 569.1|HD 132142|HIC  73005|HIP 73005|LFT 1159|LSPM J1455+5340|LTT 14432|2MASS J14551121+5340485|NLTT 38831|PLX 3378|PLX 3378.00|PM 14538+5353|PPM  34751|SAO  29336|SPOCS  626|TIC 161058448|TYC 3861-376-1|UBV   12998|USNO-B1.0 1436-00238650|uvby98 100132142|WEB 12523|WISEA J145509.90+534054.5|YZC 26  4641|YZ  53  4641|[HFE83] 1061|Gaia DR2 1606148310770764288|Gaia DR3 1606148310770764288|Gaia DR1 1606148306474379008</td><td>39</td><td>HD 132142</td></tr>\n",
       "<tr><td>64</td><td>HD1326</td><td>8.07</td><td>3567</td><td>4.89</td><td>1.52</td><td>1220</td><td>2.8</td><td>170</td><td>3.998</td><td>Simbad</td><td>4.59535</td><td>44.02295</td><td>HD1326</td><td>HD   1326</td><td>00 18 22.8849</td><td>+44 01 22.637</td><td>14</td><td>14</td><td>0.014</td><td>0.010</td><td>90</td><td>A</td><td>O</td><td>2020yCat.1350....0G</td><td>280.707</td><td>4</td><td>0.0203</td><td>A</td><td>2020yCat.1350....0G</td><td>2891.518</td><td>411.832</td><td>M2V</td><td>LHS     3|** GRB   34A|AC2000 1406215|ADS   246 A|AG+43   37|AKARI-IRC-V1 J0018248+440125|AP J00182256+4401222|ASCC  373571|BD+43    44|CCDM J00184+4401A|Ci 20   19|CNS5 89|CSI+43    44  4|CSI+43    44  1|DO 23070|GAT 1029|GC   358|GCRV   161|GEN# +1.10001326|G 171-47|GJ 15 A|Gmb   34|HD   1326|HIC   1475|HIP 1475|JP11   170|JP11   360|Karmn J00183+440|LFT   31|LSPM J0018+4401W|LTT 10108|2MASS J00182256+4401222|MCC 85|NLTT   919|8pc 280.27A|PLX   49|PM 00155+4344|PM J00183+4401|PPM  42798|SAO  36248|StKM 2-24a|SV* SVS  2042|TIC 440109725|TYC 2794-157-1|UBV     205|UBV     207|UCAC4 671-001465|USNO-B1.0 1340-00005988|USNO 787|V* GX And|VVO 124|WDS J00184+4401A|WEB   265|WISEA J001825.70+440126.9|WISE J001825.71+440126.8|Zkh   5|[GKL99] 9|[GS83]  66|[RHG95]    60|Gaia DR3 385334230892516480|Gaia DR2 385334230892516480|Gaia DR1 385334123516493568</td><td>21</td><td>HD   1326</td></tr>\n",
       "<tr><td>86</td><td>HD144585</td><td>6.32</td><td>5807</td><td>4.23</td><td>3.68</td><td>996</td><td>6.49</td><td>35</td><td>3.9</td><td>Simbad</td><td>241.76404</td><td>-14.0713</td><td>HD144585</td><td>HD 144585</td><td>16 07 03.3696</td><td>-14 04 16.671</td><td>14</td><td>14</td><td>0.025</td><td>0.023</td><td>90</td><td>A</td><td>O</td><td>2020yCat.1350....0G</td><td>36.225</td><td>3</td><td>0.027</td><td>A</td><td>2020yCat.1350....0G</td><td>-261.591</td><td>9.683</td><td>G2V</td><td>LTT  6427|** NSN  153A|BD-13  4342|GC 21653|GCRV 65950|GEN# +1.00144585|HD 144585|HIC  78955|HIP 78955|HR  5996|IRAS 16042-1356|2MASS J16070340-1404166|NLTT 41992|PPM 231226|RAVE J160703.4-140417|SAO 159706|SKY# 29087|SPOCS  684|TD1 18873|TIC 410994457|TYC 5624-1433-1|UBV   13643|UBV M  21163|uvby98 100144585|WDS J16071-1404A|WEB 13345|WISEA J160703.19-140416.5|YZC 11  5583|Gaia DR3 4341501106288171008|Gaia DR1 4341501101988663680|Gaia DR2 4341501106288171008</td><td>43</td><td>HD 144585</td></tr>\n",
       "<tr><td>87</td><td>HD145958A</td><td>7.43</td><td>5414</td><td>4.48</td><td>5.19</td><td>1564</td><td>5.2</td><td>84</td><td>3.9</td><td>Simbad</td><td>243.32687</td><td>13.5269</td><td>HD145958A</td><td>*  49 Ser A</td><td>16 13 18.4497</td><td>+13 31 36.845</td><td>14</td><td>14</td><td>0.015</td><td>0.014</td><td>90</td><td>A</td><td>O</td><td>2020yCat.1350....0G</td><td>41.129</td><td>4</td><td>0.0197</td><td>A</td><td>2020yCat.1350....0G</td><td>178.934</td><td>-419.941</td><td>G9V</td><td>CCDM J16134+1331A|*  49 Ser A|** CHR   52|** STF 2021A|ADS  9969 A|AG+13 1546|ASCC  960975|BD+13  3091A|Ci 20  973|CNS5 3978|CSI+13  3091  1|CSV 102788|GC 21821|GCRV  9334|GEN# +1.00145958|GJ 9548 A|GJ 615.1 A|HD 145958A|LSPM J1613+1331S|LTT 14827|2MASS J16131843+1331379|NLTT 42273|NSV  7543|PLX 3681|PMSC 16086+1348Aab|PPM 132106|SKY# 29285|SPOCS 2921|SPOCS  693|TIC 119985828|TYC  958-1468-1|UBV   13787|USNO-B1.0 1035-00246585|WDS J16133+1332Aa,Ab|WDS J16133+1332A|Gaia DR2 4464207428579939840|Gaia DR3 4464207428579939840</td><td>44</td><td>HD 145958A</td></tr>\n",
       "<tr><td>...</td><td>...</td><td>...</td><td>...</td><td>...</td><td>...</td><td>...</td><td>...</td><td>...</td><td>...</td><td>...</td><td>...</td><td>...</td><td>...</td><td>...</td><td>...</td><td>...</td><td>...</td><td>...</td><td>...</td><td>...</td><td>...</td><td>...</td><td>...</td><td>...</td><td>...</td><td>...</td><td>...</td><td>...</td><td>...</td><td>...</td><td>...</td><td>...</td><td>...</td><td>...</td><td>...</td></tr>\n",
       "<tr><td>66</td><td>HD58781</td><td>7.24</td><td>5582</td><td>4.37</td><td>2.77</td><td>1440</td><td>3.39</td><td>23</td><td>3.981</td><td>Simbad</td><td>111.96159</td><td>19.04479</td><td>HD58781</td><td>HD  58781</td><td>07 27 50.7814</td><td>+19 02 41.253</td><td>14</td><td>14</td><td>0.019</td><td>0.018</td><td>90</td><td>A</td><td>O</td><td>2020yCat.1350....0G</td><td>34.294</td><td>3</td><td>0.026</td><td>A</td><td>2020yCat.1350....0G</td><td>117.630</td><td>-70.447</td><td>G5</td><td>HD  58781|AG+19  733|BD+19  1734|GEN# +1.00058781|GSC 01355-00612|HIC  36249|HIP 36249|2MASS J07275076+1902414|N30 1668|PPM 124039|SAO  96918|SKY# 13625|SPOCS  349|TIC 60847893|TYC 1355-612-1|uvby98 100058781|YZ  19  2847|Gaia DR2 3362649918901844608|Gaia DR3 3362649918901844608|Gaia DR1 3362649914604536576</td><td>23</td><td>HD  58781</td></tr>\n",
       "<tr><td>90</td><td>HD62613</td><td>6.55</td><td>5493</td><td>4.5</td><td>0.76</td><td>758</td><td>3.8</td><td>30</td><td>3.889</td><td>Simbad</td><td>119.07178</td><td>80.26554</td><td>HD62613</td><td>HD  62613</td><td>07 56 17.2289</td><td>+80 15 55.952</td><td>14</td><td>14</td><td>0.015</td><td>0.018</td><td>90</td><td>A</td><td>O</td><td>2020yCat.1350....0G</td><td>58.292</td><td>4</td><td>0.0196</td><td>A</td><td>2020yCat.1350....0G</td><td>-476.159</td><td>89.330</td><td>G9</td><td>LHS  5130|AG+80  163|ASCC   25386|BD+80   238|BIS 251|Ci 20  442|CNS5 1958|GC 10590|GCRV  5222|GEN# +1.00062613|GJ 290|GSC 04535-01164|HD  62613|HIC  38784|HIP 38784|HR  2997|IRAS F07480+8023|IRAS 07483+8023|LSPM J0756+8015|LTT 12074|2MASS J07561720+8015558|NLTT 18520|PLX 1829|PLX 1829.00|PPM   1316|SAO   1254|SKY# 14815|SPOCS 2708|TIC 289971775|TYC 4535-1164-1|UBV    7428|UBV M  13579|USNO-B1.0 1702-00030144|uvby98 100062613|WEB  7597|Gaia DR2 1139252071109797760|Gaia DR3 1139252071109797760|Gaia DR1 1139252066816724992</td><td>47</td><td>HD  62613</td></tr>\n",
       "<tr><td>61</td><td>HD69830</td><td>5.95</td><td>5387</td><td>4.48</td><td>1.42</td><td>466</td><td>5.7</td><td>268</td><td>4.009</td><td>Simbad</td><td>124.59978</td><td>-12.63217</td><td>HD69830</td><td>HD  69830</td><td>08 18 23.9469</td><td>-12 37 55.817</td><td>14</td><td>14</td><td>0.024</td><td>0.021</td><td>90</td><td>A</td><td>O</td><td>2020yCat.1350....0G</td><td>79.495</td><td>4</td><td>0.04</td><td>A</td><td>2020yCat.1350....0G</td><td>278.790</td><td>-987.829</td><td>G8:V</td><td>LHS   245|** JNN  235A|** TNN    7A|BD-12  2449|Ci 20  471|CNS5 2059|GC 11325|GCRV  5498|GEN# +1.00069830|GJ 302|HD  69830|HIC  40693|HIP 40693|HR  3259|IRAS 08160-1228|LAL 16304|LFT  579|LPM 286|LTT  3104|2MASS J08182389-1237541|NLTT 19296|PLX 1977|PLX 1977.00|PM 08160-1228|PPM 219933|1RXS J081823.6-123747|SAO 154093|SKY# 15738|SPOCS  376|TD1 12166|TIC 307624961|TYC 5435-2991-1|UBV    7967|UBV M  14185|uvby98 100069830|WDS J08184-1238A|WEB  7906|WISEA J081824.16-123806.1|WISE J081824.16-123805.9|YZC 11  3159|Gaia DR3 5726982995343100928|Gaia DR2 5726982995343100928</td><td>18</td><td>HD  69830</td></tr>\n",
       "<tr><td>77</td><td>HD71479</td><td>7.17</td><td>5925</td><td>4.27</td><td>3.26</td><td>1790</td><td>3.33</td><td>16</td><td>3.94</td><td>Simbad</td><td>126.89636</td><td>-5.14864</td><td>HD71479</td><td>HD  71479</td><td>08 27 35.1263</td><td>-05 08 55.091</td><td>14</td><td>14</td><td>0.021</td><td>0.013</td><td>90</td><td>A</td><td>O</td><td>2020yCat.1350....0G</td><td>24.542</td><td>4</td><td>0.0267</td><td>A</td><td>2020yCat.1350....0G</td><td>-124.940</td><td>-80.693</td><td>G2/3V</td><td>HD  71479|AGKR  7621|BD-04  2347|FK5 4761|GEN# +1.00071479|GSC 04857-02064|HIC  41479|HIP 41479|2MASS J08273512-0508551|PPM 191361|SAO 135935|SKY# 16094|SPOCS  385|SRS   8401|TIC 169108295|TYC 4857-2064-1|uvby98 100071479|WISEA J082735.04-050855.8|YZ  94  3244|Gaia DR2 3065191272937568896|Gaia DR3 3065191272937568896</td><td>34</td><td>HD  71479</td></tr>\n",
       "<tr><td>76</td><td>HD84117</td><td>4.93</td><td>6128</td><td>4.26</td><td>3.24</td><td>902</td><td>6.04</td><td>55</td><td>3.94</td><td>Simbad</td><td>145.56007</td><td>-23.91557</td><td>HD84117</td><td>HD  84117</td><td>09 42 14.4162</td><td>-23 54 56.042</td><td>14</td><td>14</td><td>0.073</td><td>0.113</td><td>90</td><td>A</td><td>O</td><td>2020yCat.1350....0G</td><td>66.883</td><td>4</td><td>0.1123</td><td>A</td><td>2020yCat.1350....0G</td><td>-399.497</td><td>262.319</td><td>F9V</td><td>LTT  3558|CD-23  8646|Ci 20  544|CNS5 2396|CPD-23  4656|GC 13394|GCRV  6254|GEN# +1.00084117|GJ 364.0|GJ 364|HD  84117|HIC  47592|HIP 47592|HR  3862|IRAS 09399-2341|JP11  1854|2MASS J09421443-2354563|NLTT 22406|PLX 2306|PLX 2306.00|PPM 256602|SAO 177866|SKY# 18752|SPOCS  430|TD1 14212|TIC 11310083|TYC 6602-2081-1|UBV    9210|UBV M  15664|uvby98 100084117|WEB  8923|WISEA J094214.09-235453.2|YZ 113  7575|Gaia DR2 5663558453071724288|Gaia DR3 5663558453071724288</td><td>33</td><td>HD  84117</td></tr>\n",
       "<tr><td>71</td><td>HD84737</td><td>5.1</td><td>5872</td><td>4.1</td><td>2.56</td><td>1300</td><td>3.7</td><td>46</td><td>3.965</td><td>Simbad</td><td>147.14738</td><td>46.02101</td><td>HD84737</td><td>*  15 LMi</td><td>09 48 35.3713</td><td>+46 01 15.626</td><td>14</td><td>14</td><td>0.049</td><td>0.035</td><td>90</td><td>A</td><td>O</td><td>2020yCat.1350....0G</td><td>53.128</td><td>4</td><td>0.0773</td><td>A</td><td>2020yCat.1350....0G</td><td>221.750</td><td>-92.356</td><td>G0.5Va</td><td>LTT 12601|*  15 LMi|AG+46  800|ASCC  326905|BD+46  1551|CNS5 2425|FK5 1255|GC 13497|GCRV  6291|GEN# +1.00084737|GJ 368|HD  84737|HIC  48113|HIP 48113|HR  3881|IRAS 09453+4615|JP11  1863|LSPM J0948+4601|2MASS J09483533+4601155|N30 2345|NLTT 22625|PLX 2316|PLX 2316.00|PMC 90-93   860|PPM  51497|ROT  1509|RX J0948.6+4601|SAO  43046|SKY# 18945|SPOCS  431|TD1 14272|TIC 23969522|TYC 3433-1531-1|UBV    9239|UBV M  15708|USNO-B1.0 1360-00202003|uvby98 100084737|WEB  8991|WISEA J094835.61+460114.6|[MWB97] 136|Gaia DR2 821455861647126656|Gaia DR3 821455861647126656</td><td>28</td><td>HD  84737</td></tr>\n",
       "<tr><td>70</td><td>HD92719</td><td>6.79</td><td>5796</td><td>4.47</td><td>2.46</td><td>1066</td><td>4.27</td><td>66</td><td>3.97</td><td>Simbad</td><td>160.5555</td><td>-13.78771</td><td>HD92719</td><td>HD  92719</td><td>10 42 13.3208</td><td>-13 47 15.771</td><td>14</td><td>14</td><td>0.022</td><td>0.033</td><td>90</td><td>A</td><td>O</td><td>2020yCat.1350....0G</td><td>41.908</td><td>4</td><td>0.0293</td><td>A</td><td>2020yCat.1350....0G</td><td>234.441</td><td>-172.093</td><td>G1.5V</td><td>LTT  3926|BD-13  3196|CNS5 2622|GC 14716|GEN# +1.00092719|HD  92719|HIC  52369|HIP 52369|IRAS 10397-1331|2MASS J10421329-1347154|NLTT 25108|PPM 223334|SAO 156167|SKY# 20497|SPOCS 2760|TIC 391844777|TYC 5498-1529-1|uvby98 100092719|WISEA J104213.49-134717.5|YZC 11  4055|Gaia DR2 3750995604764854400|Gaia DR3 3750995604764854400</td><td>27</td><td>HD  92719</td></tr>\n",
       "<tr><td>89</td><td>HD9562</td><td>5.75</td><td>5837</td><td>4.02</td><td>3.0</td><td>1678</td><td>3.78</td><td>30</td><td>3.892</td><td>Simbad</td><td>23.42848</td><td>-7.02534</td><td>HD9562</td><td>HD   9562</td><td>01 33 42.8357</td><td>-07 01 31.238</td><td>14</td><td>14</td><td>0.047</td><td>0.024</td><td>90</td><td>A</td><td>O</td><td>2020yCat.1350....0G</td><td>33.583</td><td>4</td><td>0.0527</td><td>A</td><td>2020yCat.1350....0G</td><td>174.613</td><td>-82.577</td><td>G1V</td><td>NLTT  5194|BD-07   256|GC  1888|GCRV   885|GEN# +1.00009562|GJ 59.2|GPM1  58|GPM  23.428053-07.025141|GSC 04687-02318|HD   9562|HERZ 10472|HIC   7276|HIP 7276|HR   448|IRAS 01311-0716|2MASS J01334282-0701311|N30  315|PLX  323.01|PPM 183575|RAVE J013342.8-070131|ROT   219|SAO 129371|SKY#  2352|SPOCS   83|TD1   893|TIC 29845542|TYC 4687-2318-1|UBV    1624|UBV M   8270|uvby98 100009562|WEB  1567|WISEA J013342.97-070132.2|YZ  97   318|[AKS95]  193|Gaia DR2 2477891500647336704|Gaia DR3 2477891500647336704</td><td>46</td><td>HD   9562</td></tr>\n",
       "<tr><td>85</td><td>HD98281</td><td>7.29</td><td>5381</td><td>4.52</td><td>2.55</td><td>1338</td><td>4.17</td><td>68</td><td>3.901</td><td>Simbad</td><td>169.59171</td><td>-5.0673</td><td>HD98281</td><td>HD  98281</td><td>11 18 22.0116</td><td>-05 04 02.288</td><td>14</td><td>14</td><td>0.022</td><td>0.018</td><td>90</td><td>A</td><td>O</td><td>2020yCat.1350....0G</td><td>45.180</td><td>4</td><td>0.024</td><td>A</td><td>2020yCat.1350....0G</td><td>795.006</td><td>-150.916</td><td>G8V</td><td>LHS  2393|AGKR 10135|BD-04  3049|Ci 20  628|CNS5 2769|FK5 4994|GC 15546|GCRV  6923|GEN# +1.00098281|G 163-74|GJ 9357|GJ 423.1|HD  98281|HIC  55210|HIP 55210|LAL 21565|LFT  793|LPM 383|LTT  4182|2MASS J11182197-0504023|NLTT 26934|PLX 2627|PLX 2627.00|PM 11158-0447|PPM 194333|SAO 138119|SKY# 21524|SPOCS  484|SRS  10248|TIC 38086286|TYC 4928-281-1|UBV   10293|uvby98 100098281|WEB  9949|WISEA J111822.57-050403.9|YZC 17  4271|YZ  94  4271|[B10]  2986|Gaia DR2 3786697056556771584|Gaia DR3 3786697056556771584|Gaia DR1 3786697017900891392</td><td>42</td><td>HD  98281</td></tr>\n",
       "<tr><td>45</td><td>HD99491</td><td>6.49</td><td>5438</td><td>4.4</td><td>2.68</td><td>724</td><td>4.5</td><td>125</td><td>4.105</td><td>Simbad</td><td>171.68884</td><td>3.0131</td><td>HD99491</td><td>*  83 Leo A</td><td>11 26 45.3217</td><td>+03 00 47.156</td><td>14</td><td>14</td><td>0.019</td><td>0.022</td><td>90</td><td>A</td><td>O</td><td>2020yCat.1350....0G</td><td>55.009</td><td>4</td><td>0.024</td><td>A</td><td>2020yCat.1350....0G</td><td>-725.963</td><td>180.980</td><td>G9IV-V</td><td>LHS  2407|*  83 Leo A|** STF 1540A|ADS  8162 A|AG+03 1496|AP J11264531+0300475|ASCC 1135416|BD+03  2502|CCDM J11268+0300A|Ci 20  637|CNS5 2812|CSI+03  2502  1|FK5 1296|GC 15705|GCRV  6977|GEN# +1.00099491A|GJ 429 A|HD  99491|HIC  55846|HIP 55846|HR  4414|IDS 11217+0333 A|LFT  805|LSPM J1126+0300N|LTT 13109|2MASS J11264531+0300475|N30 2682|NLTT 27398|PLX 2648|PMC 90-93   893|PM 11242+0317A|PPM 157865|1RXS J112642.9+030057|SAO 118864|SKY# 21728|SPOCS  491|TIC 363549733|TYC  267-1191-1|UBV   10363|USNO-B1.0 0930-00254440|uvby98 100099491 A|WDS J11268+0301A|WEB 10037|WISEA J112644.79+030050.0|Wolf  393|YZ   3  4278|[B10]  3014|Gaia DR3 3812355328621651328|Gaia DR1 3812355324326277760|Gaia DR2 3812355328621651328</td><td>2</td><td>HD  99491</td></tr>\n",
       "</table></div>"
      ],
      "text/plain": [
       "<Table length=56>\n",
       " Seq     Name     Vmag  ... SCRIPT_NUMBER_ID  HD_NAME  \n",
       "                        ...                            \n",
       "int64    str9   float64 ...      int32         str10   \n",
       "----- --------- ------- ... ---------------- ----------\n",
       "   78  HD116443    7.35 ...               35  HD 116443\n",
       "   65   HD12051    7.14 ...               22  HD  12051\n",
       "   88  HD125455    7.58 ...               45  HD 125455\n",
       "   46   HD12846    6.89 ...                3  HD  12846\n",
       "   91  HD130992    7.81 ...               48  HD 130992\n",
       "   82  HD132142    7.77 ...               39  HD 132142\n",
       "   64    HD1326    8.07 ...               21  HD   1326\n",
       "   86  HD144585    6.32 ...               43  HD 144585\n",
       "   87 HD145958A    7.43 ...               44 HD 145958A\n",
       "  ...       ...     ... ...              ...        ...\n",
       "   66   HD58781    7.24 ...               23  HD  58781\n",
       "   90   HD62613    6.55 ...               47  HD  62613\n",
       "   61   HD69830    5.95 ...               18  HD  69830\n",
       "   77   HD71479    7.17 ...               34  HD  71479\n",
       "   76   HD84117    4.93 ...               33  HD  84117\n",
       "   71   HD84737     5.1 ...               28  HD  84737\n",
       "   70   HD92719    6.79 ...               27  HD  92719\n",
       "   89    HD9562    5.75 ...               46  HD   9562\n",
       "   85   HD98281    7.29 ...               42  HD  98281\n",
       "   45   HD99491    6.49 ...                2  HD  99491"
      ]
     },
     "execution_count": 61,
     "metadata": {},
     "output_type": "execute_result"
    }
   ],
   "source": [
    "neid_target_list_w_addl_info"
   ]
  },
  {
   "cell_type": "code",
   "execution_count": 40,
   "id": "c45262d1",
   "metadata": {},
   "outputs": [
    {
     "ename": "KeyError",
     "evalue": "'Name'",
     "output_type": "error",
     "traceback": [
      "\u001b[0;31m---------------------------------------------------------------------------\u001b[0m",
      "\u001b[0;31mKeyError\u001b[0m                                  Traceback (most recent call last)",
      "Cell \u001b[0;32mIn[40], line 1\u001b[0m\n\u001b[0;32m----> 1\u001b[0m \u001b[43mneid_target_addl_info\u001b[49m\u001b[43m[\u001b[49m\u001b[38;5;124;43m'\u001b[39;49m\u001b[38;5;124;43mName\u001b[39;49m\u001b[38;5;124;43m'\u001b[39;49m\u001b[43m]\u001b[49m\n",
      "File \u001b[0;32m~/anaconda3/envs/py38/lib/python3.8/site-packages/astropy/table/table.py:2075\u001b[0m, in \u001b[0;36mTable.__getitem__\u001b[0;34m(self, item)\u001b[0m\n\u001b[1;32m   2073\u001b[0m \u001b[38;5;28;01mdef\u001b[39;00m \u001b[38;5;21m__getitem__\u001b[39m(\u001b[38;5;28mself\u001b[39m, item):\n\u001b[1;32m   2074\u001b[0m     \u001b[38;5;28;01mif\u001b[39;00m \u001b[38;5;28misinstance\u001b[39m(item, \u001b[38;5;28mstr\u001b[39m):\n\u001b[0;32m-> 2075\u001b[0m         \u001b[38;5;28;01mreturn\u001b[39;00m \u001b[38;5;28;43mself\u001b[39;49m\u001b[38;5;241;43m.\u001b[39;49m\u001b[43mcolumns\u001b[49m\u001b[43m[\u001b[49m\u001b[43mitem\u001b[49m\u001b[43m]\u001b[49m\n\u001b[1;32m   2076\u001b[0m     \u001b[38;5;28;01melif\u001b[39;00m \u001b[38;5;28misinstance\u001b[39m(item, (\u001b[38;5;28mint\u001b[39m, np\u001b[38;5;241m.\u001b[39minteger)):\n\u001b[1;32m   2077\u001b[0m         \u001b[38;5;28;01mreturn\u001b[39;00m \u001b[38;5;28mself\u001b[39m\u001b[38;5;241m.\u001b[39mRow(\u001b[38;5;28mself\u001b[39m, item)\n",
      "File \u001b[0;32m~/anaconda3/envs/py38/lib/python3.8/site-packages/astropy/table/table.py:263\u001b[0m, in \u001b[0;36mTableColumns.__getitem__\u001b[0;34m(self, item)\u001b[0m\n\u001b[1;32m    253\u001b[0m \u001b[38;5;124;03m\"\"\"Get items from a TableColumns object.\u001b[39;00m\n\u001b[1;32m    254\u001b[0m \u001b[38;5;124;03m::\u001b[39;00m\n\u001b[1;32m    255\u001b[0m \n\u001b[0;32m   (...)\u001b[0m\n\u001b[1;32m    260\u001b[0m \u001b[38;5;124;03m  tc[1:3] # <TableColumns names=('b', 'c')>\u001b[39;00m\n\u001b[1;32m    261\u001b[0m \u001b[38;5;124;03m\"\"\"\u001b[39;00m\n\u001b[1;32m    262\u001b[0m \u001b[38;5;28;01mif\u001b[39;00m \u001b[38;5;28misinstance\u001b[39m(item, \u001b[38;5;28mstr\u001b[39m):\n\u001b[0;32m--> 263\u001b[0m     \u001b[38;5;28;01mreturn\u001b[39;00m \u001b[43mOrderedDict\u001b[49m\u001b[38;5;241;43m.\u001b[39;49m\u001b[38;5;21;43m__getitem__\u001b[39;49m\u001b[43m(\u001b[49m\u001b[38;5;28;43mself\u001b[39;49m\u001b[43m,\u001b[49m\u001b[43m \u001b[49m\u001b[43mitem\u001b[49m\u001b[43m)\u001b[49m\n\u001b[1;32m    264\u001b[0m \u001b[38;5;28;01melif\u001b[39;00m \u001b[38;5;28misinstance\u001b[39m(item, (\u001b[38;5;28mint\u001b[39m, np\u001b[38;5;241m.\u001b[39minteger)):\n\u001b[1;32m    265\u001b[0m     \u001b[38;5;28;01mreturn\u001b[39;00m \u001b[38;5;28mlist\u001b[39m(\u001b[38;5;28mself\u001b[39m\u001b[38;5;241m.\u001b[39mvalues())[item]\n",
      "\u001b[0;31mKeyError\u001b[0m: 'Name'"
     ]
    }
   ],
   "source": [
    "neid_target_addl_info"
   ]
  },
  {
   "cell_type": "code",
   "execution_count": 10,
   "id": "d344a420",
   "metadata": {},
   "outputs": [],
   "source": [
    "# Define spectral class properties (example for main-sequence stars)\n",
    "# (normalized to solar radius)\n",
    "spectral_to_radius = {\n",
    "    'O': 6.6,\n",
    "    'B': 4.2,\n",
    "    'A': 1.6,\n",
    "    'F': 1.3,\n",
    "    'G': 1.0,\n",
    "    'K': 0.85,\n",
    "    'M': 0.5\n",
    "}\n",
    "\n",
    "# Add a radius column based on the spectral class\n",
    "def get_radius(spectral_class):\n",
    "    # Extract the main spectral type (e.g., 'A' from 'A3V')\n",
    "    main_type = spectral_class[0].upper()\n",
    "    return spectral_to_radius.get(main_type, np.nan)  # Return NaN if not in the mapping\n",
    "\n",
    "# Apply the function to the table\n",
    "neid_target_addl_info['Radius'] = [get_radius(sc) for sc in neid_target_addl_info['SP_TYPE']]  # Replace 'Spectral_Class'\n",
    "\n",
    "# Save the updated table\n",
    "#table.write('updated_targets_table_with_radius.csv', format='csv', overwrite=True)"
   ]
  },
  {
   "cell_type": "code",
   "execution_count": 11,
   "id": "44284b69",
   "metadata": {},
   "outputs": [
    {
     "data": {
      "text/html": [
       "<div><i>Table length=57</i>\n",
       "<table id=\"table140279176243040\" class=\"table-striped table-bordered table-condensed\">\n",
       "<thead><tr><th>MAIN_ID</th><th>RA</th><th>DEC</th><th>RA_PREC</th><th>DEC_PREC</th><th>COO_ERR_MAJA</th><th>COO_ERR_MINA</th><th>COO_ERR_ANGLE</th><th>COO_QUAL</th><th>COO_WAVELENGTH</th><th>COO_BIBCODE</th><th>PLX_VALUE</th><th>PLX_PREC</th><th>PLX_ERROR</th><th>PLX_QUAL</th><th>PLX_BIBCODE</th><th>PMRA</th><th>PMDEC</th><th>SP_TYPE</th><th>SCRIPT_NUMBER_ID</th><th>Radius</th></tr></thead>\n",
       "<thead><tr><th></th><th>&quot;h:m:s&quot;</th><th>&quot;d:m:s&quot;</th><th></th><th></th><th>mas</th><th>mas</th><th>deg</th><th></th><th></th><th></th><th>mas</th><th></th><th>mas</th><th></th><th></th><th>mas / yr</th><th>mas / yr</th><th></th><th></th><th></th></tr></thead>\n",
       "<thead><tr><th>object</th><th>str13</th><th>str13</th><th>int16</th><th>int16</th><th>float32</th><th>float32</th><th>int16</th><th>str1</th><th>str1</th><th>object</th><th>float64</th><th>int16</th><th>float32</th><th>str1</th><th>object</th><th>float64</th><th>float64</th><th>object</th><th>int32</th><th>float64</th></tr></thead>\n",
       "<tr><td>*  49 Ser B</td><td>16 13 18.4206</td><td>+13 31 40.963</td><td>14</td><td>14</td><td>0.015</td><td>0.014</td><td>90</td><td>A</td><td>O</td><td>2020yCat.1350....0G</td><td>41.154</td><td>4</td><td>0.0203</td><td>A</td><td>2020yCat.1350....0G</td><td>194.154</td><td>-422.438</td><td>G9V</td><td>1</td><td>1.0</td></tr>\n",
       "<tr><td>*  83 Leo A</td><td>11 26 45.3217</td><td>+03 00 47.156</td><td>14</td><td>14</td><td>0.019</td><td>0.022</td><td>90</td><td>A</td><td>O</td><td>2020yCat.1350....0G</td><td>55.009</td><td>4</td><td>0.024</td><td>A</td><td>2020yCat.1350....0G</td><td>-725.963</td><td>180.980</td><td>G9IV-V</td><td>2</td><td>1.0</td></tr>\n",
       "<tr><td>HD  12846</td><td>02 06 30.2435</td><td>+24 20 02.371</td><td>14</td><td>14</td><td>0.018</td><td>0.018</td><td>90</td><td>A</td><td>O</td><td>2020yCat.1350....0G</td><td>42.114</td><td>4</td><td>0.0205</td><td>A</td><td>2020yCat.1350....0G</td><td>6.063</td><td>-147.727</td><td>G2V</td><td>3</td><td>1.0</td></tr>\n",
       "<tr><td>HD 164922</td><td>18 02 30.8623</td><td>+26 18 46.805</td><td>14</td><td>14</td><td>0.010</td><td>0.013</td><td>90</td><td>A</td><td>O</td><td>2020yCat.1350....0G</td><td>45.495</td><td>4</td><td>0.0167</td><td>A</td><td>2020yCat.1350....0G</td><td>389.772</td><td>-602.431</td><td>G9V</td><td>4</td><td>1.0</td></tr>\n",
       "<tr><td>HD 157347</td><td>17 22 51.2877</td><td>-02 23 17.439</td><td>14</td><td>14</td><td>0.020</td><td>0.013</td><td>90</td><td>A</td><td>O</td><td>2020yCat.1350....0G</td><td>50.969</td><td>4</td><td>0.0251</td><td>A</td><td>2020yCat.1350....0G</td><td>48.702</td><td>-108.118</td><td>G3V</td><td>5</td><td>1.0</td></tr>\n",
       "<tr><td>HD 149806</td><td>16 37 08.4279</td><td>+00 15 15.625</td><td>14</td><td>14</td><td>0.018</td><td>0.009</td><td>90</td><td>A</td><td>O</td><td>2020yCat.1350....0G</td><td>49.204</td><td>4</td><td>0.0222</td><td>A</td><td>2020yCat.1350....0G</td><td>93.385</td><td>78.717</td><td>K0V</td><td>6</td><td>0.85</td></tr>\n",
       "<tr><td>HD 170657</td><td>18 31 18.9610</td><td>-18 54 31.729</td><td>14</td><td>14</td><td>0.028</td><td>0.028</td><td>90</td><td>A</td><td>O</td><td>2020yCat.1350....0G</td><td>75.848</td><td>4</td><td>0.0349</td><td>A</td><td>2020yCat.1350....0G</td><td>-138.215</td><td>-195.466</td><td>K2V</td><td>7</td><td>0.85</td></tr>\n",
       "<tr><td>*  11 Aqr</td><td>21 00 33.8408</td><td>-04 43 48.934</td><td>14</td><td>14</td><td>0.021</td><td>0.014</td><td>90</td><td>A</td><td>O</td><td>2020yCat.1350....0G</td><td>36.997</td><td>4</td><td>0.0293</td><td>A</td><td>2020yCat.1350....0G</td><td>48.795</td><td>-138.180</td><td>G1V</td><td>8</td><td>1.0</td></tr>\n",
       "<tr><td>HD 158633</td><td>17 25 00.0977</td><td>+67 18 24.148</td><td>14</td><td>14</td><td>0.020</td><td>0.021</td><td>90</td><td>A</td><td>O</td><td>2020yCat.1350....0G</td><td>78.175</td><td>4</td><td>0.0226</td><td>A</td><td>2020yCat.1350....0G</td><td>-531.749</td><td>4.818</td><td>K0</td><td>9</td><td>0.85</td></tr>\n",
       "<tr><td>...</td><td>...</td><td>...</td><td>...</td><td>...</td><td>...</td><td>...</td><td>...</td><td>...</td><td>...</td><td>...</td><td>...</td><td>...</td><td>...</td><td>...</td><td>...</td><td>...</td><td>...</td><td>...</td><td>...</td><td>...</td></tr>\n",
       "<tr><td>HD 130992</td><td>14 51 40.4651</td><td>-24 18 14.876</td><td>14</td><td>14</td><td>0.024</td><td>0.021</td><td>90</td><td>A</td><td>O</td><td>2020yCat.1350....0G</td><td>59.639</td><td>4</td><td>0.0275</td><td>A</td><td>2020yCat.1350....0G</td><td>-944.623</td><td>-431.624</td><td>K3.5V</td><td>48</td><td>0.85</td></tr>\n",
       "<tr><td>HD 219623</td><td>23 16 42.3035</td><td>+53 12 48.509</td><td>14</td><td>14</td><td>0.031</td><td>0.036</td><td>90</td><td>A</td><td>O</td><td>2020yCat.1350....0G</td><td>48.520</td><td>4</td><td>0.0463</td><td>A</td><td>2020yCat.1350....0G</td><td>112.461</td><td>-236.554</td><td>F8V</td><td>49</td><td>1.3</td></tr>\n",
       "<tr><td>* m Tau</td><td>05 07 27.0055</td><td>+18 38 42.179</td><td>14</td><td>14</td><td>0.090</td><td>0.057</td><td>90</td><td>A</td><td>O</td><td>2020yCat.1350....0G</td><td>62.825</td><td>4</td><td>0.1094</td><td>A</td><td>2020yCat.1350....0G</td><td>534.674</td><td>18.449</td><td>G1V</td><td>50</td><td>1.0</td></tr>\n",
       "<tr><td>HD 180161</td><td>19 12 11.3567</td><td>+57 40 19.126</td><td>14</td><td>14</td><td>0.018</td><td>0.015</td><td>90</td><td>A</td><td>O</td><td>2020yCat.1350....0G</td><td>49.468</td><td>4</td><td>0.0164</td><td>A</td><td>2020yCat.1350....0G</td><td>216.436</td><td>407.627</td><td>K0</td><td>51</td><td>0.85</td></tr>\n",
       "<tr><td>HD   4915</td><td>00 51 10.8478</td><td>-05 02 21.401</td><td>14</td><td>14</td><td>0.018</td><td>0.012</td><td>90</td><td>A</td><td>O</td><td>2020yCat.1350....0G</td><td>44.591</td><td>4</td><td>0.0238</td><td>A</td><td>2020yCat.1350....0G</td><td>261.885</td><td>-119.043</td><td>G5V</td><td>52</td><td>1.0</td></tr>\n",
       "<tr><td>HD 220339</td><td>23 23 04.8953</td><td>-10 45 51.277</td><td>14</td><td>14</td><td>0.021</td><td>0.021</td><td>90</td><td>A</td><td>O</td><td>2020yCat.1350....0G</td><td>52.164</td><td>4</td><td>0.0275</td><td>A</td><td>2020yCat.1350....0G</td><td>452.192</td><td>260.311</td><td>K2V</td><td>53</td><td>0.85</td></tr>\n",
       "<tr><td>HD 224619</td><td>23 59 28.4320</td><td>-20 02 04.966</td><td>14</td><td>14</td><td>0.027</td><td>0.016</td><td>90</td><td>A</td><td>O</td><td>2020yCat.1350....0G</td><td>38.200</td><td>4</td><td>0.0295</td><td>A</td><td>2020yCat.1350....0G</td><td>507.592</td><td>-283.686</td><td>G8+V</td><td>54</td><td>1.0</td></tr>\n",
       "<tr><td>HD  28005</td><td>04 27 24.7042</td><td>+46 51 11.353</td><td>14</td><td>14</td><td>0.015</td><td>0.008</td><td>90</td><td>A</td><td>O</td><td>2020yCat.1350....0G</td><td>33.126</td><td>4</td><td>0.0183</td><td>A</td><td>2020yCat.1350....0G</td><td>81.452</td><td>-302.287</td><td>G0</td><td>55</td><td>1.0</td></tr>\n",
       "<tr><td>HD  37394</td><td>05 41 20.3356</td><td>+53 28 51.808</td><td>14</td><td>14</td><td>0.020</td><td>0.017</td><td>90</td><td>A</td><td>O</td><td>2020yCat.1350....0G</td><td>81.499</td><td>4</td><td>0.0253</td><td>A</td><td>2020yCat.1350....0G</td><td>2.804</td><td>-523.477</td><td>K1</td><td>56</td><td>0.85</td></tr>\n",
       "<tr><td>HD 216520</td><td>22 47 31.8776</td><td>+83 41 49.302</td><td>14</td><td>14</td><td>0.015</td><td>0.015</td><td>90</td><td>A</td><td>O</td><td>2020yCat.1350....0G</td><td>51.156</td><td>4</td><td>0.0184</td><td>A</td><td>2020yCat.1350....0G</td><td>-151.770</td><td>116.644</td><td>K0V</td><td>57</td><td>0.85</td></tr>\n",
       "</table></div>"
      ],
      "text/plain": [
       "<Table length=57>\n",
       "  MAIN_ID         RA           DEC      ... SP_TYPE SCRIPT_NUMBER_ID  Radius\n",
       "               \"h:m:s\"       \"d:m:s\"    ...                                 \n",
       "   object       str13         str13     ...  object      int32       float64\n",
       "----------- ------------- ------------- ... ------- ---------------- -------\n",
       "*  49 Ser B 16 13 18.4206 +13 31 40.963 ...     G9V                1     1.0\n",
       "*  83 Leo A 11 26 45.3217 +03 00 47.156 ...  G9IV-V                2     1.0\n",
       "  HD  12846 02 06 30.2435 +24 20 02.371 ...     G2V                3     1.0\n",
       "  HD 164922 18 02 30.8623 +26 18 46.805 ...     G9V                4     1.0\n",
       "  HD 157347 17 22 51.2877 -02 23 17.439 ...     G3V                5     1.0\n",
       "  HD 149806 16 37 08.4279 +00 15 15.625 ...     K0V                6    0.85\n",
       "  HD 170657 18 31 18.9610 -18 54 31.729 ...     K2V                7    0.85\n",
       "  *  11 Aqr 21 00 33.8408 -04 43 48.934 ...     G1V                8     1.0\n",
       "  HD 158633 17 25 00.0977 +67 18 24.148 ...      K0                9    0.85\n",
       "        ...           ...           ... ...     ...              ...     ...\n",
       "  HD 130992 14 51 40.4651 -24 18 14.876 ...   K3.5V               48    0.85\n",
       "  HD 219623 23 16 42.3035 +53 12 48.509 ...     F8V               49     1.3\n",
       "    * m Tau 05 07 27.0055 +18 38 42.179 ...     G1V               50     1.0\n",
       "  HD 180161 19 12 11.3567 +57 40 19.126 ...      K0               51    0.85\n",
       "  HD   4915 00 51 10.8478 -05 02 21.401 ...     G5V               52     1.0\n",
       "  HD 220339 23 23 04.8953 -10 45 51.277 ...     K2V               53    0.85\n",
       "  HD 224619 23 59 28.4320 -20 02 04.966 ...    G8+V               54     1.0\n",
       "  HD  28005 04 27 24.7042 +46 51 11.353 ...      G0               55     1.0\n",
       "  HD  37394 05 41 20.3356 +53 28 51.808 ...      K1               56    0.85\n",
       "  HD 216520 22 47 31.8776 +83 41 49.302 ...     K0V               57    0.85"
      ]
     },
     "execution_count": 11,
     "metadata": {},
     "output_type": "execute_result"
    }
   ],
   "source": [
    "neid_target_addl_info"
   ]
  },
  {
   "cell_type": "code",
   "execution_count": 45,
   "id": "461f420a",
   "metadata": {},
   "outputs": [],
   "source": [
    "# Ensure the Simbad info and NEID target table have matching identifiers\n",
    "neid_target_info_merged = neid_target_addl_info.copy()\n",
    "\n",
    "# Add columns from Simbad results to your table\n",
    "for col in ['PLX_VALUE', 'PMRA', 'PMDEC', 'SP_TYPE', 'Radius']:  # Adjust based on the fields you requested\n",
    "    neid_target_info_merged[col] = neid_target_addl_info[col]\n",
    "\n",
    "# Save the updated table\n",
    "#merged_table.write('updated_targets_table.csv', format='csv', overwrite=True)"
   ]
  },
  {
   "cell_type": "code",
   "execution_count": 41,
   "id": "f637759b",
   "metadata": {},
   "outputs": [
    {
     "ename": "KeyError",
     "evalue": "'Name'",
     "output_type": "error",
     "traceback": [
      "\u001b[0;31m---------------------------------------------------------------------------\u001b[0m",
      "\u001b[0;31mKeyError\u001b[0m                                  Traceback (most recent call last)",
      "Cell \u001b[0;32mIn[41], line 1\u001b[0m\n\u001b[0;32m----> 1\u001b[0m \u001b[43mneid_target_info_merged\u001b[49m\u001b[43m[\u001b[49m\u001b[38;5;124;43m'\u001b[39;49m\u001b[38;5;124;43mName\u001b[39;49m\u001b[38;5;124;43m'\u001b[39;49m\u001b[43m]\u001b[49m\n",
      "File \u001b[0;32m~/anaconda3/envs/py38/lib/python3.8/site-packages/astropy/table/table.py:2075\u001b[0m, in \u001b[0;36mTable.__getitem__\u001b[0;34m(self, item)\u001b[0m\n\u001b[1;32m   2073\u001b[0m \u001b[38;5;28;01mdef\u001b[39;00m \u001b[38;5;21m__getitem__\u001b[39m(\u001b[38;5;28mself\u001b[39m, item):\n\u001b[1;32m   2074\u001b[0m     \u001b[38;5;28;01mif\u001b[39;00m \u001b[38;5;28misinstance\u001b[39m(item, \u001b[38;5;28mstr\u001b[39m):\n\u001b[0;32m-> 2075\u001b[0m         \u001b[38;5;28;01mreturn\u001b[39;00m \u001b[38;5;28;43mself\u001b[39;49m\u001b[38;5;241;43m.\u001b[39;49m\u001b[43mcolumns\u001b[49m\u001b[43m[\u001b[49m\u001b[43mitem\u001b[49m\u001b[43m]\u001b[49m\n\u001b[1;32m   2076\u001b[0m     \u001b[38;5;28;01melif\u001b[39;00m \u001b[38;5;28misinstance\u001b[39m(item, (\u001b[38;5;28mint\u001b[39m, np\u001b[38;5;241m.\u001b[39minteger)):\n\u001b[1;32m   2077\u001b[0m         \u001b[38;5;28;01mreturn\u001b[39;00m \u001b[38;5;28mself\u001b[39m\u001b[38;5;241m.\u001b[39mRow(\u001b[38;5;28mself\u001b[39m, item)\n",
      "File \u001b[0;32m~/anaconda3/envs/py38/lib/python3.8/site-packages/astropy/table/table.py:263\u001b[0m, in \u001b[0;36mTableColumns.__getitem__\u001b[0;34m(self, item)\u001b[0m\n\u001b[1;32m    253\u001b[0m \u001b[38;5;124;03m\"\"\"Get items from a TableColumns object.\u001b[39;00m\n\u001b[1;32m    254\u001b[0m \u001b[38;5;124;03m::\u001b[39;00m\n\u001b[1;32m    255\u001b[0m \n\u001b[0;32m   (...)\u001b[0m\n\u001b[1;32m    260\u001b[0m \u001b[38;5;124;03m  tc[1:3] # <TableColumns names=('b', 'c')>\u001b[39;00m\n\u001b[1;32m    261\u001b[0m \u001b[38;5;124;03m\"\"\"\u001b[39;00m\n\u001b[1;32m    262\u001b[0m \u001b[38;5;28;01mif\u001b[39;00m \u001b[38;5;28misinstance\u001b[39m(item, \u001b[38;5;28mstr\u001b[39m):\n\u001b[0;32m--> 263\u001b[0m     \u001b[38;5;28;01mreturn\u001b[39;00m \u001b[43mOrderedDict\u001b[49m\u001b[38;5;241;43m.\u001b[39;49m\u001b[38;5;21;43m__getitem__\u001b[39;49m\u001b[43m(\u001b[49m\u001b[38;5;28;43mself\u001b[39;49m\u001b[43m,\u001b[49m\u001b[43m \u001b[49m\u001b[43mitem\u001b[49m\u001b[43m)\u001b[49m\n\u001b[1;32m    264\u001b[0m \u001b[38;5;28;01melif\u001b[39;00m \u001b[38;5;28misinstance\u001b[39m(item, (\u001b[38;5;28mint\u001b[39m, np\u001b[38;5;241m.\u001b[39minteger)):\n\u001b[1;32m    265\u001b[0m     \u001b[38;5;28;01mreturn\u001b[39;00m \u001b[38;5;28mlist\u001b[39m(\u001b[38;5;28mself\u001b[39m\u001b[38;5;241m.\u001b[39mvalues())[item]\n",
      "\u001b[0;31mKeyError\u001b[0m: 'Name'"
     ]
    }
   ],
   "source": [
    "neid_target_info_merged['Name']"
   ]
  },
  {
   "cell_type": "code",
   "execution_count": 14,
   "id": "70780f37",
   "metadata": {},
   "outputs": [],
   "source": [
    "# distance in pc\n",
    "neid_target_info_merged['dist'] = 1/(1e-3 * neid_target_info_merged['PLX_VALUE'])"
   ]
  },
  {
   "cell_type": "code",
   "execution_count": 20,
   "id": "60baeea1",
   "metadata": {},
   "outputs": [
    {
     "data": {
      "image/png": "[encoded data removed]",
      "text/plain": [
       "<Figure size 640x480 with 1 Axes>"
      ]
     },
     "metadata": {},
     "output_type": "display_data"
    }
   ],
   "source": [
    "plt.hist(neid_target_info_merged['dist'], bins=20)\n",
    "plt.xlabel('Dist (pc)')\n",
    "plt.show()"
   ]
  },
  {
   "cell_type": "code",
   "execution_count": 16,
   "id": "f73a3b8f",
   "metadata": {},
   "outputs": [
    {
     "data": {
      "image/png": "[encoded data removed]",
      "text/plain": [
       "<Figure size 640x480 with 1 Axes>"
      ]
     },
     "metadata": {},
     "output_type": "display_data"
    }
   ],
   "source": [
    "plt.scatter(neid_target_info_merged['dist'], neid_target_info_merged['Radius'])\n",
    "plt.xlabel('Dist (pc)')\n",
    "plt.ylabel('Radius (R_sol)')\n",
    "plt.show()"
   ]
  },
  {
   "cell_type": "code",
   "execution_count": 17,
   "id": "b7ab470d",
   "metadata": {},
   "outputs": [],
   "source": [
    "# find angular widths\n",
    "neid_target_info_merged['width_ang'] = ( 2 * neid_target_info_merged['Radius'] / neid_target_info_merged['dist'] ) * (1./107.) # arcsec (N.b. 1 AU = 107 R_sol)\n"
   ]
  },
  {
   "cell_type": "code",
   "execution_count": 18,
   "id": "a9e2d7ad",
   "metadata": {},
   "outputs": [
    {
     "data": {
      "text/plain": [
       "0.0007692429906542055"
      ]
     },
     "execution_count": 18,
     "metadata": {},
     "output_type": "execute_result"
    }
   ],
   "source": [
    "neid_target_info_merged['width_ang'][0]"
   ]
  },
  {
   "cell_type": "code",
   "execution_count": 19,
   "id": "008ace50",
   "metadata": {},
   "outputs": [
    {
     "data": {
      "image/png": "[encoded data removed]",
      "text/plain": [
       "<Figure size 640x480 with 1 Axes>"
      ]
     },
     "metadata": {},
     "output_type": "display_data"
    }
   ],
   "source": [
    "plt.hist(1000 * neid_target_info_merged['width_ang'], bins=20)\n",
    "plt.xlabel('Stellar diameter (masec)')\n",
    "plt.show()"
   ]
  },
  {
   "cell_type": "code",
   "execution_count": 21,
   "id": "9c2ac4c3",
   "metadata": {},
   "outputs": [],
   "source": [
    "# overlap of NEID targets with JMDC catalog (i.e., directly measured angular diameters)\n",
    "\n",
    "jmdc_catalog = Table.read('jmdc_catalog.csv', format='ascii', delimiter='|', data_start=44)\n",
    "\n",
    "#jmdc_catalog.csv"
   ]
  },
  {
   "cell_type": "code",
   "execution_count": 39,
   "id": "f1048b6c",
   "metadata": {},
   "outputs": [
    {
     "name": "stdout",
     "output_type": "stream",
     "text": [
      "Querying SIMBAD for HD designations...\n",
      "\n",
      "Target: 49 Ser B -> No HD designation found for '49 Ser B'.\n",
      "Target: Betelgeuse -> No HD designation found for 'Betelgeuse'.\n",
      "Target: Vega -> HD 172167\n",
      "Target: Arcturus -> HD 124897\n"
     ]
    }
   ],
   "source": [
    "# normalize the names of targets in table neid_target_addl_info, to enable matching\n",
    "\n",
    "# Customize the query fields to include identifiers\n",
    "Simbad.add_votable_fields('ids')\n",
    "\n",
    "def get_hd_designation(target_name):\n",
    "    \"\"\"\n",
    "    Queries SIMBAD for a target's identifiers and extracts the HD designation.\n",
    "    \n",
    "    Parameters:\n",
    "        target_name (str): Name of the astronomical target.\n",
    "    \n",
    "    Returns:\n",
    "        str: The HD designation if found, otherwise an informative message.\n",
    "    \"\"\"\n",
    "    try:\n",
    "        result = Simbad.query_object(target_name)\n",
    "        if result is None:\n",
    "            return f\"No results found for '{target_name}'.\"\n",
    "        \n",
    "        # Extract identifiers and search for HD designation\n",
    "        identifiers = result['IDS'][0]\n",
    "        hd_match = re.search(r'\\bHD \\d+\\b', identifiers)\n",
    "        if hd_match:\n",
    "            return hd_match.group(0)\n",
    "        else:\n",
    "            return f\"No HD designation found for '{target_name}'.\"\n",
    "    except Exception as e:\n",
    "        return f\"Error querying SIMBAD for '{target_name}': {e}\"\n",
    "\n",
    "targets = [\"49 Ser B\", \"Betelgeuse\", \"Vega\", \"Arcturus\"]\n",
    "\n",
    "# Query each target and display the results\n",
    "print(\"Querying SIMBAD for HD designations...\\n\")\n",
    "for target in targets:\n",
    "    hd_designation = get_hd_designation(target)\n",
    "    print(f\"Target: {target} -> {hd_designation}\")\n",
    "\n",
    "    \n",
    "# Query Simbad for each HD designation in jmdc_catalog\n",
    "#neid_target_addl_info['SIMBAD_HD'] = [query_simbad_hd(hd) for hd in neid_target_addl_info['MAIN_ID']]\n",
    "\n",
    "#neid_target_addl_info['NORM_ID'] = neid_target_addl_info['MAIN_ID'].str.replace(' ', '')\n",
    "#neid_target_addl_info['NORM_ID'] = [hd.replace(' ', '') for hd in neid_target_addl_info['SIMBAD_HD']]\n",
    "\n",
    "\n"
   ]
  },
  {
   "cell_type": "code",
   "execution_count": 33,
   "id": "e8720d7c",
   "metadata": {},
   "outputs": [
    {
     "data": {
      "text/html": [
       "&lt;Column name=&apos;SIMBAD_HD&apos; dtype=&apos;str11&apos; length=57&gt;\n",
       "<table>\n",
       "<tr><td>*  49 Ser B</td></tr>\n",
       "<tr><td>*  83 Leo A</td></tr>\n",
       "<tr><td>HD  12846</td></tr>\n",
       "<tr><td>HD 164922</td></tr>\n",
       "<tr><td>HD 157347</td></tr>\n",
       "<tr><td>HD 149806</td></tr>\n",
       "<tr><td>HD 170657</td></tr>\n",
       "<tr><td>*  11 Aqr</td></tr>\n",
       "<tr><td>HD 158633</td></tr>\n",
       "<tr><td>HD 166620</td></tr>\n",
       "<tr><td>HD  39881</td></tr>\n",
       "<tr><td>HD 176377</td></tr>\n",
       "<tr><td>...</td></tr>\n",
       "<tr><td>HD   9562</td></tr>\n",
       "<tr><td>HD  62613</td></tr>\n",
       "<tr><td>HD 130992</td></tr>\n",
       "<tr><td>HD 219623</td></tr>\n",
       "<tr><td>* m Tau</td></tr>\n",
       "<tr><td>HD 180161</td></tr>\n",
       "<tr><td>HD   4915</td></tr>\n",
       "<tr><td>HD 220339</td></tr>\n",
       "<tr><td>HD 224619</td></tr>\n",
       "<tr><td>HD  28005</td></tr>\n",
       "<tr><td>HD  37394</td></tr>\n",
       "<tr><td>HD 216520</td></tr>\n",
       "</table>"
      ],
      "text/plain": [
       "<Column name='SIMBAD_HD' dtype='str11' length=57>\n",
       "*  49 Ser B\n",
       "*  83 Leo A\n",
       "  HD  12846\n",
       "  HD 164922\n",
       "  HD 157347\n",
       "  HD 149806\n",
       "  HD 170657\n",
       "  *  11 Aqr\n",
       "  HD 158633\n",
       "  HD 166620\n",
       "  HD  39881\n",
       "  HD 176377\n",
       "        ...\n",
       "  HD   9562\n",
       "  HD  62613\n",
       "  HD 130992\n",
       "  HD 219623\n",
       "    * m Tau\n",
       "  HD 180161\n",
       "  HD   4915\n",
       "  HD 220339\n",
       "  HD 224619\n",
       "  HD  28005\n",
       "  HD  37394\n",
       "  HD 216520"
      ]
     },
     "execution_count": 33,
     "metadata": {},
     "output_type": "execute_result"
    }
   ],
   "source": [
    "neid_target_addl_info['SIMBAD_HD']"
   ]
  },
  {
   "cell_type": "code",
   "execution_count": 24,
   "id": "d0f3d787",
   "metadata": {},
   "outputs": [
    {
     "data": {
      "text/plain": [
       "astropy.table.table.Table"
      ]
     },
     "execution_count": 24,
     "metadata": {},
     "output_type": "execute_result"
    }
   ],
   "source": [
    "type(neid_target_addl_info)"
   ]
  },
  {
   "cell_type": "code",
   "execution_count": null,
   "id": "f9e5ab11",
   "metadata": {},
   "outputs": [],
   "source": [
    "# Customize the Simbad query to include additional parameters\n",
    "custom_simbad = Simbad()\n",
    "custom_simbad.TIMEOUT = 120  # Increase timeout for large queries\n",
    "custom_simbad.add_votable_fields('parallax', 'pmra', 'pmdec', 'sp')  # Add desired fields including spectral class\n",
    "\n",
    "# Query Simbad using the object names from your table\n",
    "object_names = neid_targets['Name']  # Replace 'Identifier' with your column name\n",
    "neid_target_addl_info = custom_simbad.query_objects(object_names)"
   ]
  },
  {
   "cell_type": "code",
   "execution_count": 22,
   "id": "e124dfb5",
   "metadata": {},
   "outputs": [
    {
     "data": {
      "text/html": [
       "<div><i>Table length=1972</i>\n",
       "<table id=\"table140278917382400\" class=\"table-striped table-bordered table-condensed\">\n",
       "<thead><tr><th>ID1</th><th>ID2</th><th>UDdiam</th><th>LDdiam</th><th>e_LDdiam</th><th>Band</th><th>mu-lambda</th><th>Method</th><th>BandCode</th><th>Notes</th><th>BibCode</th><th>SINPE</th><th>CADARS</th><th>SimbadName</th><th>_RA</th><th>_DE</th></tr></thead>\n",
       "<thead><tr><th>str28</th><th>str28</th><th>float64</th><th>float64</th><th>float64</th><th>str10</th><th>float64</th><th>int64</th><th>int64</th><th>str204</th><th>str19</th><th>int64</th><th>int64</th><th>str28</th><th>float64</th><th>float64</th></tr></thead>\n",
       "<tr><td>HD102212</td><td>* nu. Vir</td><td>5.2</td><td>--</td><td>--</td><td>5470A</td><td>--</td><td>2</td><td>3</td><td>--</td><td>1971HiA.....2..675R</td><td>0</td><td>9</td><td>HD102212</td><td>176.46483</td><td>6.52937</td></tr>\n",
       "<tr><td>HD219215</td><td>PHI AQR</td><td>4.9</td><td>--</td><td>0.8</td><td>5470A</td><td>--</td><td>2</td><td>3</td><td>--</td><td>1971HiA.....2..692P</td><td>0</td><td>4</td><td>HD219215</td><td>348.58067</td><td>-6.049</td></tr>\n",
       "<tr><td>HD91232</td><td>46 LEO</td><td>5.6</td><td>--</td><td>1.1</td><td>5470A</td><td>--</td><td>2</td><td>3</td><td>--</td><td>1971HiA.....2..692P</td><td>0</td><td>6</td><td>HD91232</td><td>158.04906</td><td>14.13727</td></tr>\n",
       "<tr><td>HD23629</td><td>24 TAU</td><td>10.0</td><td>--</td><td>--</td><td>5470A</td><td>--</td><td>2</td><td>3</td><td>--</td><td>1971HiA.....2..700B</td><td>0</td><td>2</td><td>HD23629</td><td>56.83766</td><td>24.11627</td></tr>\n",
       "<tr><td>HD87901</td><td>ALF LEO</td><td>1.7</td><td>--</td><td>0.5</td><td>5470A</td><td>--</td><td>2</td><td>3</td><td>--</td><td>1971HiA.....2..700B</td><td>0</td><td>16</td><td>HD87901</td><td>152.09296</td><td>11.96721</td></tr>\n",
       "<tr><td>HD144218</td><td>BET02 SCO</td><td>0.2</td><td>--</td><td>--</td><td>B</td><td>--</td><td>2</td><td>2</td><td>Occultation by Io, found binary.</td><td>1971Natur.234..405T</td><td>0</td><td>4</td><td>HD144218</td><td>241.36072</td><td>-19.80191</td></tr>\n",
       "<tr><td>HD64705</td><td>--</td><td>0.05</td><td>--</td><td>--</td><td>B</td><td>--</td><td>2</td><td>2</td><td>--</td><td>1971PASP...83..156M</td><td>0</td><td>1</td><td>HD64705</td><td>119.02688</td><td>23.62381</td></tr>\n",
       "<tr><td>HD169916</td><td>LAM SGR</td><td>4.2</td><td>--</td><td>0.3</td><td>--</td><td>--</td><td>2</td><td>--</td><td>Nather, R.E.: 1972, Ph.D.Dissertation, University Cape Town</td><td>1972...............</td><td>0</td><td>5</td><td>HD169916</td><td>276.99267</td><td>-25.4217</td></tr>\n",
       "<tr><td>HD144218</td><td>* bet02 Sco</td><td>0.16</td><td>--</td><td>0.05</td><td>V</td><td>--</td><td>2</td><td>3</td><td>--</td><td>1972AJ.....77...60B</td><td>0</td><td>4</td><td>HD144218</td><td>241.36072</td><td>-19.80191</td></tr>\n",
       "<tr><td>HD76221</td><td>X CNC</td><td>7.9</td><td>9.0</td><td>2.2</td><td>694nm</td><td>--</td><td>2</td><td>4</td><td>--</td><td>1972AJ.....77..756B</td><td>0</td><td>3</td><td>HD76221</td><td>133.84534</td><td>17.23127</td></tr>\n",
       "<tr><td>...</td><td>...</td><td>...</td><td>...</td><td>...</td><td>...</td><td>...</td><td>...</td><td>...</td><td>...</td><td>...</td><td>...</td><td>...</td><td>...</td><td>...</td><td>...</td></tr>\n",
       "<tr><td>HD148112</td><td>--</td><td>--</td><td>0.423</td><td>0.01</td><td>R</td><td>0.41</td><td>1</td><td>4</td><td>UD to LD Coefficents from 2011A&amp;A...529A..75C</td><td>2021A&amp;A...652A..26S</td><td>0</td><td>3</td><td>HD148112</td><td>246.35398</td><td>14.03327</td></tr>\n",
       "<tr><td>HD114330</td><td>--</td><td>--</td><td>0.443</td><td>0.023</td><td>R</td><td>0.413</td><td>1</td><td>4</td><td>UD to LD Coefficents from 2011A&amp;A...529A..75C</td><td>2021A&amp;A...652A..26S</td><td>0</td><td>2</td><td>HD114330</td><td>197.48743</td><td>-5.53902</td></tr>\n",
       "<tr><td>HD 97633</td><td>--</td><td>--</td><td>0.769</td><td>0.01</td><td>R</td><td>0.431</td><td>1</td><td>4</td><td>UD to LD Coefficents from 2011A&amp;A...529A..75C</td><td>2021A&amp;A...652A..26S</td><td>0</td><td>4</td><td>HD 97633</td><td>168.56002</td><td>15.42957</td></tr>\n",
       "<tr><td>HD152107</td><td>--</td><td>--</td><td>0.432</td><td>0.009</td><td>R</td><td>0.434</td><td>1</td><td>4</td><td>UD to LD Coefficents from 2011A&amp;A...529A..75C</td><td>2021A&amp;A...652A..26S</td><td>0</td><td>3</td><td>HD152107</td><td>252.30924</td><td>45.98332</td></tr>\n",
       "<tr><td>HD192640</td><td>--</td><td>--</td><td>0.489</td><td>0.011</td><td>R</td><td>0.447</td><td>1</td><td>4</td><td>UD to LD Coefficents from 2011A&amp;A...529A..75C</td><td>2021A&amp;A...652A..26S</td><td>0</td><td>2</td><td>HD192640</td><td>303.63347</td><td>36.8063</td></tr>\n",
       "<tr><td>HD89021</td><td>--</td><td>--</td><td>0.757</td><td>0.007</td><td>R</td><td>0.453</td><td>1</td><td>4</td><td>UD to LD Coefficents from 2011A&amp;A...529A..75C</td><td>2021A&amp;A...652A..26S</td><td>0</td><td>4</td><td>HD89021</td><td>154.27406</td><td>42.91438</td></tr>\n",
       "<tr><td>HD27819</td><td>--</td><td>--</td><td>0.489</td><td>0.007</td><td>R</td><td>0.468</td><td>1</td><td>4</td><td>UD to LD Coefficents from 2011A&amp;A...529A..75C</td><td>2021A&amp;A...652A..26S</td><td>0</td><td>6</td><td>HD27819</td><td>66.024</td><td>17.44413</td></tr>\n",
       "<tr><td>HD33959</td><td>--</td><td>--</td><td>0.515</td><td>0.004</td><td>R</td><td>0.476</td><td>1</td><td>4</td><td>UD to LD Coefficents from 2011A&amp;A...529A..75C</td><td>2021A&amp;A...652A..26S</td><td>0</td><td>1</td><td>HD33959</td><td>78.85164</td><td>32.6876</td></tr>\n",
       "<tr><td>HD145570</td><td>--</td><td>--</td><td>0.431</td><td>0.008</td><td>R</td><td>0.512</td><td>1</td><td>4</td><td>UD to LD Coefficents from 2011A&amp;A...529A..75C</td><td>2021A&amp;A...652A..26S</td><td>0</td><td>2</td><td>HD145570</td><td>243.00004</td><td>-10.06412</td></tr>\n",
       "<tr><td>HD97658</td><td>--</td><td>0.296</td><td>--</td><td>0.004</td><td>690..950nm</td><td>--</td><td>1</td><td>5</td><td>Quoting only the PAVO UD measurement</td><td>2021AJ....162..118E</td><td>0</td><td>0</td><td>HD97658</td><td>168.63817</td><td>25.71039</td></tr>\n",
       "</table></div>"
      ],
      "text/plain": [
       "<Table length=1972>\n",
       "  ID1        ID2      UDdiam  LDdiam ... CADARS SimbadName    _RA       _DE   \n",
       " str28      str28    float64 float64 ... int64    str28     float64   float64 \n",
       "-------- ----------- ------- ------- ... ------ ---------- --------- ---------\n",
       "HD102212   * nu. Vir     5.2      -- ...      9   HD102212 176.46483   6.52937\n",
       "HD219215     PHI AQR     4.9      -- ...      4   HD219215 348.58067    -6.049\n",
       " HD91232      46 LEO     5.6      -- ...      6    HD91232 158.04906  14.13727\n",
       " HD23629      24 TAU    10.0      -- ...      2    HD23629  56.83766  24.11627\n",
       " HD87901     ALF LEO     1.7      -- ...     16    HD87901 152.09296  11.96721\n",
       "HD144218   BET02 SCO     0.2      -- ...      4   HD144218 241.36072 -19.80191\n",
       " HD64705          --    0.05      -- ...      1    HD64705 119.02688  23.62381\n",
       "HD169916     LAM SGR     4.2      -- ...      5   HD169916 276.99267  -25.4217\n",
       "HD144218 * bet02 Sco    0.16      -- ...      4   HD144218 241.36072 -19.80191\n",
       " HD76221       X CNC     7.9     9.0 ...      3    HD76221 133.84534  17.23127\n",
       "     ...         ...     ...     ... ...    ...        ...       ...       ...\n",
       "HD148112          --      --   0.423 ...      3   HD148112 246.35398  14.03327\n",
       "HD114330          --      --   0.443 ...      2   HD114330 197.48743  -5.53902\n",
       "HD 97633          --      --   0.769 ...      4   HD 97633 168.56002  15.42957\n",
       "HD152107          --      --   0.432 ...      3   HD152107 252.30924  45.98332\n",
       "HD192640          --      --   0.489 ...      2   HD192640 303.63347   36.8063\n",
       " HD89021          --      --   0.757 ...      4    HD89021 154.27406  42.91438\n",
       " HD27819          --      --   0.489 ...      6    HD27819    66.024  17.44413\n",
       " HD33959          --      --   0.515 ...      1    HD33959  78.85164   32.6876\n",
       "HD145570          --      --   0.431 ...      2   HD145570 243.00004 -10.06412\n",
       " HD97658          --   0.296      -- ...      0    HD97658 168.63817  25.71039"
      ]
     },
     "execution_count": 22,
     "metadata": {},
     "output_type": "execute_result"
    }
   ],
   "source": [
    "jmdc_catalog"
   ]
  },
  {
   "cell_type": "code",
   "execution_count": null,
   "id": "990ae320",
   "metadata": {},
   "outputs": [],
   "source": [
    "# overlap of transiting planets with JMDC catalog (i.e., directly measured angular diameters)"
   ]
  }
 ],
 "metadata": {
  "kernelspec": {
   "display_name": "py38",
   "language": "python",
   "name": "python3"
  },
  "language_info": {
   "codemirror_mode": {
    "name": "ipython",
    "version": 3
   },
   "file_extension": ".py",
   "mimetype": "text/x-python",
   "name": "python",
   "nbconvert_exporter": "python",
   "pygments_lexer": "ipython3",
   "version": "3.8.13"
  }
 },
 "nbformat": 4,
 "nbformat_minor": 5
}
