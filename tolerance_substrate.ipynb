{
 "cells": [
  {
   "cell_type": "code",
   "execution_count": 1,
   "id": "7e83a1b1",
   "metadata": {},
   "outputs": [],
   "source": [
    "# Finds the thickness and tolerance of a substrate\n",
    "\n",
    "# Created 2023 Mar 9 by E.S."
   ]
  },
  {
   "cell_type": "code",
   "execution_count": 2,
   "id": "d5a871a2",
   "metadata": {},
   "outputs": [],
   "source": [
    "import numpy as np"
   ]
  },
  {
   "cell_type": "markdown",
   "id": "4ae16c5b",
   "metadata": {},
   "source": [
    "### Find substrate thickness"
   ]
  },
  {
   "cell_type": "code",
   "execution_count": 11,
   "id": "163f7b68",
   "metadata": {},
   "outputs": [],
   "source": [
    "# user inputs\n",
    "\n",
    "NA = 0.125 # numerical aperture\n",
    "D = 66. # lenslet diameter (um)\n",
    "n_substrate = 1.54 # index of refraction of substrate\n",
    "sig_NA = 0.015 # variation of NA\n",
    "sig_D = 0.01 # variation of D\n",
    "sig_n_substrate = 0.0001 # variation of n"
   ]
  },
  {
   "cell_type": "code",
   "execution_count": 12,
   "id": "b0e99f2b",
   "metadata": {},
   "outputs": [],
   "source": [
    "# note based on plot from Simon, NA could be\n",
    "# conservative: 0.125 pm 0.005\n",
    "# more leeway: 0.125 pm 0.015"
   ]
  },
  {
   "cell_type": "code",
   "execution_count": 13,
   "id": "acd3bb77",
   "metadata": {},
   "outputs": [],
   "source": [
    "def foc_length(D_pass,NA_pass,n_pass):\n",
    "    # thickness of the substrate\n",
    "    \n",
    "    return D_pass/(2.*np.tan(np.arcsin(NA_pass/n_pass)))"
   ]
  },
  {
   "cell_type": "code",
   "execution_count": 14,
   "id": "da69a5e4",
   "metadata": {},
   "outputs": [
    {
     "name": "stdout",
     "output_type": "stream",
     "text": [
      "Substrate thickness (um):\n",
      "f= 405.2185010583796\n"
     ]
    }
   ],
   "source": [
    "f_test = foc_length(D_pass=D,NA_pass=NA,n_pass=n_substrate)\n",
    "\n",
    "print(\"Substrate thickness (um):\")\n",
    "print(\"f=\",f_test)"
   ]
  },
  {
   "cell_type": "markdown",
   "id": "96df4248",
   "metadata": {},
   "source": [
    "### Find tolerance in thickness, based on propagated error"
   ]
  },
  {
   "cell_type": "code",
   "execution_count": 15,
   "id": "11430da2",
   "metadata": {},
   "outputs": [],
   "source": [
    "def dfdx(x_pass, y_pass, z_pass):\n",
    "    \n",
    "    return 1./( 2.* np.tan(np.arcsin(y_pass/z_pass)) )"
   ]
  },
  {
   "cell_type": "code",
   "execution_count": 26,
   "id": "92532543",
   "metadata": {},
   "outputs": [],
   "source": [
    "def dfdy(x_pass, y_pass, z_pass):\n",
    "    \n",
    "    piece1 = (-x_pass/2.)*np.power(np.tan(np.arcsin(y_pass/z_pass)),-2.)\n",
    "    piece2 = np.power(np.cos(np.arcsin(y_pass/z_pass)),-2.) # sec = 1./cos\n",
    "    piece3 = ( 1./np.sqrt(1-(y_pass/z_pass)**2) ) * ( 1./z_pass )\n",
    "    \n",
    "    d2f_dxdy = piece1*piece2*piece3\n",
    "    \n",
    "    return d2f_dxdy"
   ]
  },
  {
   "cell_type": "code",
   "execution_count": 36,
   "id": "ea581d6e",
   "metadata": {},
   "outputs": [],
   "source": [
    "def dfdz(x_pass, y_pass, z_pass):\n",
    "    \n",
    "    piece1 = (-x_pass/2.)*np.power(np.tan(np.arcsin(y_pass/z_pass)),-2.)\n",
    "    piece2 = np.power(np.cos(np.arcsin(y_pass/z_pass)),-2.) # sec = 1./cos\n",
    "    piece3 = ( 1./np.sqrt(1-np.power(y_pass/z_pass,2)) ) * ( -y_pass/z_pass**2. )\n",
    "    \n",
    "    d2f_dxdy = piece1*piece2*piece3\n",
    "    \n",
    "    print(piece1)\n",
    "    print(piece2)\n",
    "    print(piece3)\n",
    "    \n",
    "    return d2f_dxdy"
   ]
  },
  {
   "cell_type": "code",
   "execution_count": 37,
   "id": "a181d32b",
   "metadata": {},
   "outputs": [],
   "source": [
    "def prop_error(dfdx_pass,dfdy_pass,dfdz_pass,sigx_pass,sigy_pass,sigz_pass):\n",
    "    # assumes no correlation in D and NA\n",
    "    \n",
    "    sigf_2 = np.power(dfdx_pass*sigx_pass,2.) + np.power(dfdy_pass*sigy_pass,2.) + np.power(dfdz_pass*sigz_pass,2.)\n",
    "    \n",
    "    return np.sqrt(sigf_2)"
   ]
  },
  {
   "cell_type": "code",
   "execution_count": 19,
   "id": "789ee603",
   "metadata": {},
   "outputs": [
    {
     "name": "stdout",
     "output_type": "stream",
     "text": [
      "Tolerance (um):\n",
      "sig_f= 48.9487584777216\n"
     ]
    }
   ],
   "source": [
    "# example\n",
    "\n",
    "# cosmetic renaming\n",
    "x = D\n",
    "y = NA\n",
    "z = n_substrate\n",
    "sigx = sig_D\n",
    "sigy = sig_NA\n",
    "sigz = sig_n_substrate\n",
    "\n",
    "dfdx_example = dfdx(x,y,z)\n",
    "dfdy_example = dfdy(x,y,z)\n",
    "dfdz_example = dfdz(x,y,z)\n",
    "\n",
    "tol_test = prop_error(dfdx_example,dfdy_example,dfdz_example,sigx,sigy,sigz)\n",
    "\n",
    "print(\"Tolerance (um):\")\n",
    "print(\"sig_f=\",tol_test)"
   ]
  },
  {
   "cell_type": "code",
   "execution_count": null,
   "id": "df4bc934",
   "metadata": {},
   "outputs": [],
   "source": []
  }
 ],
 "metadata": {
  "kernelspec": {
   "display_name": "Python 3 (ipykernel)",
   "language": "python",
   "name": "python3"
  },
  "language_info": {
   "codemirror_mode": {
    "name": "ipython",
    "version": 3
   },
   "file_extension": ".py",
   "mimetype": "text/x-python",
   "name": "python",
   "nbconvert_exporter": "python",
   "pygments_lexer": "ipython3",
   "version": "3.8.13"
  }
 },
 "nbformat": 4,
 "nbformat_minor": 5
}
