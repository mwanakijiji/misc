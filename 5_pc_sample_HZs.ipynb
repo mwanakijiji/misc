{
 "cells": [
  {
   "cell_type": "code",
   "execution_count": null,
   "id": "f13e2778",
   "metadata": {},
   "outputs": [],
   "source": [
    "# This makes plots to support a 51 Peg b proposal\n",
    "\n",
    "# Created 2022 Sept. 18 by E.S."
   ]
  },
  {
   "cell_type": "code",
   "execution_count": 43,
   "id": "06af1967",
   "metadata": {},
   "outputs": [],
   "source": [
    "import matplotlib\n",
    "import matplotlib.pyplot as plt\n",
    "import pandas as pd\n",
    "import numpy as np\n",
    "\n",
    "%matplotlib qt"
   ]
  },
  {
   "cell_type": "code",
   "execution_count": 2,
   "id": "0703441c",
   "metadata": {},
   "outputs": [],
   "source": [
    "stem = \"/Users/bandari/Documents/git.repos/misc/data/\""
   ]
  },
  {
   "cell_type": "code",
   "execution_count": 3,
   "id": "6ccdb8cc",
   "metadata": {},
   "outputs": [],
   "source": [
    "df_parallax = pd.read_csv(stem + \"5_pc_sample_parallax_cantrell_2013.txt\", delimiter=\",\", skiprows=6, names=[\"Name\",\"pi\"])\n",
    "df_hzs = pd.read_csv(stem + \"5_pc_sample_hzs_cantrell_2013.txt\", delimiter=\",\")"
   ]
  },
  {
   "cell_type": "code",
   "execution_count": 4,
   "id": "aaa8f330",
   "metadata": {},
   "outputs": [],
   "source": [
    "df_all = df_hzs.merge(df_parallax, on=\"Name\",how=\"inner\")"
   ]
  },
  {
   "cell_type": "code",
   "execution_count": 5,
   "id": "49e6cf94",
   "metadata": {},
   "outputs": [],
   "source": [
    "lambda_array_m = (1e-6)*np.array([1.22,1.63,2.19,3.45]) # JHKL bands"
   ]
  },
  {
   "cell_type": "code",
   "execution_count": 56,
   "id": "a66118df",
   "metadata": {},
   "outputs": [
    {
     "data": {
      "text/plain": [
       "0.12277678571428571"
      ]
     },
     "execution_count": 56,
     "metadata": {},
     "output_type": "execute_result"
    }
   ],
   "source": [
    "206265.*(5.e-6)/8.4"
   ]
  },
  {
   "cell_type": "code",
   "execution_count": 6,
   "id": "412669fd",
   "metadata": {},
   "outputs": [],
   "source": [
    "D = 8.4\n",
    "B = 22.3"
   ]
  },
  {
   "cell_type": "code",
   "execution_count": 17,
   "id": "67ca0f3c",
   "metadata": {},
   "outputs": [],
   "source": [
    "#iwa_array = np.divide(lambda_array_m,D)*206265. # JHKL bands, for 8-m telescope\n",
    "iwa_hosts = 0.07 # mas, at 11 um (Ertel+ 2018)\n",
    "#iwa_smfn = 0.76*np.divide(lambda_array_m,B)*206265. # for single-mode fiber nuller across 22.3 m (Wang+ 2020)\n",
    "iwa_nullers_8m = 0.70*np.divide(lambda_array_m,D)*206265. # for 8-m telescope\n",
    "iwa_nullers_LBTI = 0.70*np.divide(lambda_array_m,B)*206265. # for LBTI baseline"
   ]
  },
  {
   "cell_type": "code",
   "execution_count": 18,
   "id": "d9fecfea",
   "metadata": {},
   "outputs": [],
   "source": [
    "# distance of stars, in pc\n",
    "\n",
    "df_all[\"pc\"] = np.divide(1.,df_parallax[\"pi\"].astype(float))"
   ]
  },
  {
   "cell_type": "code",
   "execution_count": 21,
   "id": "ce6745df",
   "metadata": {},
   "outputs": [],
   "source": [
    "# angles of inner HZs\n",
    "\n",
    "df_all[\"angle_inner\"] = np.divide(df_all[\"EHZ_inner\"],df_all[\"pc\"])\n",
    "df_all[\"angle_outer\"] = np.divide(df_all[\"EHZ_outer\"],df_all[\"pc\"])"
   ]
  },
  {
   "cell_type": "code",
   "execution_count": 49,
   "id": "f3a30048",
   "metadata": {},
   "outputs": [],
   "source": [
    "plt.hist(df_all[\"angle_outer\"],bins =100,color=\"gray\",alpha=0.5)\n",
    "plt.hist(df_all[\"angle_inner\"],bins =100,color=\"gray\")\n",
    "for i in range(0,len(iwa_nullers_8m)):\n",
    "    plt.axvline(x=iwa_nullers_8m[i], color=\"orange\", linewidth=5)\n",
    "    plt.axvline(x=iwa_nullers_LBTI[i], color=\"g\", linewidth=5)\n",
    "matplotlib.rcParams.update({'font.size': 25})\n",
    "plt.axvline(x=iwa_hosts, linestyle=\"--\", color=\"k\", linewidth=5)\n",
    "plt.xlabel(\"Separation (arcsec)\")\n",
    "plt.xlim([0.0,0.2])\n",
    "plt.tight_layout()\n",
    "#plt.legend()\n",
    "plt.show()"
   ]
  },
  {
   "cell_type": "code",
   "execution_count": 53,
   "id": "cf4afbfe",
   "metadata": {},
   "outputs": [
    {
     "data": {
      "text/plain": [
       "array([0.00481536, 0.00525278, 0.0085878 , 0.0100899 , 0.0116377 ,\n",
       "       0.01230144, 0.0123312 , 0.01269922, 0.0130014 , 0.01511401,\n",
       "       0.0155496 , 0.0158544 , 0.01602048, 0.01618656, 0.01623687,\n",
       "       0.017127  , 0.01976104, 0.01994999, 0.02076   , 0.02179044,\n",
       "       0.02248794, 0.02301348, 0.0239295 , 0.0264858 , 0.0270284 ,\n",
       "       0.0321382 , 0.0353613 , 0.0356478 , 0.04028013, 0.04218555,\n",
       "       0.0436408 , 0.04408848, 0.04561542, 0.0493608 , 0.05421153,\n",
       "       0.06309651, 0.0704088 , 0.07043699, 0.0825825 , 0.08685198,\n",
       "       0.09538502, 0.1324099 , 0.13639752, 0.17508186, 0.1892878 ,\n",
       "       0.2092244 , 0.2616672 , 0.28705215, 0.31651074, 0.33177012,\n",
       "       0.3859627 , 0.4474293 , 1.0706472 , 1.689473  ])"
      ]
     },
     "execution_count": 53,
     "metadata": {},
     "output_type": "execute_result"
    }
   ],
   "source": [
    "np.sort(df_all[\"angle_outer\"])"
   ]
  },
  {
   "cell_type": "code",
   "execution_count": 54,
   "id": "cd44f8a5",
   "metadata": {},
   "outputs": [
    {
     "data": {
      "text/plain": [
       "array([0.00228096, 0.00242436, 0.0039636 , 0.0048581 , 0.00541755,\n",
       "       0.0057216 , 0.0057252 , 0.00607354, 0.0060813 , 0.00712925,\n",
       "       0.0073656 , 0.00741884, 0.00743808, 0.0074868 , 0.00760461,\n",
       "       0.0080445 , 0.00912048, 0.00946082, 0.009861  , 0.01011699,\n",
       "       0.01058256, 0.01068483, 0.0111671 , 0.0124403 , 0.0126868 ,\n",
       "       0.014948  , 0.01659261, 0.0167162 , 0.01870935, 0.01968659,\n",
       "       0.02018387, 0.0205314 , 0.02146608, 0.02303504, 0.0255447 ,\n",
       "       0.02955153, 0.03307972, 0.0331089 , 0.0385385 , 0.04058769,\n",
       "       0.04484236, 0.0619888 , 0.06379884, 0.082033  , 0.0886028 ,\n",
       "       0.09788713, 0.122516  , 0.13445473, 0.14814072, 0.15542384,\n",
       "       0.18067975, 0.2095053 , 0.501102  , 0.7909623 ])"
      ]
     },
     "execution_count": 54,
     "metadata": {},
     "output_type": "execute_result"
    }
   ],
   "source": [
    "np.sort(df_all[\"angle_inner\"])"
   ]
  },
  {
   "cell_type": "code",
   "execution_count": 14,
   "id": "197858e2",
   "metadata": {},
   "outputs": [],
   "source": [
    "# failed matches\n",
    "\n",
    "total_merge = df_hzs.merge(df_parallax, on='Name', how='outer', indicator=True)\n",
    "\n",
    "R1 = total_merge[total_merge['_merge']=='both']\n",
    "R2 = total_merge[total_merge['_merge']=='left_only']\n",
    "R3 = total_merge[total_merge['_merge']=='right_only']\n",
    "\n",
    "print(R2)\n",
    "print(R3)"
   ]
  }
 ],
 "metadata": {
  "kernelspec": {
   "display_name": "Python 3",
   "language": "python",
   "name": "python3"
  },
  "language_info": {
   "codemirror_mode": {
    "name": "ipython",
    "version": 3
   },
   "file_extension": ".py",
   "mimetype": "text/x-python",
   "name": "python",
   "nbconvert_exporter": "python",
   "pygments_lexer": "ipython3",
   "version": "3.6.10"
  }
 },
 "nbformat": 4,
 "nbformat_minor": 5
}
